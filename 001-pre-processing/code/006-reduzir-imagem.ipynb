{
 "cells": [
  {
   "cell_type": "markdown",
   "id": "ab52819d",
   "metadata": {},
   "source": [
    "## Ajuste de escala\n",
    "A operação de ajuste de escala tem como objetivo alterar proporcionalmente as dimensões de uma imagem sem que a mesma fique distorcida "
   ]
  },
  {
   "cell_type": "markdown",
   "id": "38a260f5",
   "metadata": {},
   "source": [
    "Imports"
   ]
  },
  {
   "cell_type": "code",
   "execution_count": 1,
   "id": "ef332e11",
   "metadata": {},
   "outputs": [],
   "source": [
    "import cv2 as cv\n",
    "import numpy as np\n",
    "from matplotlib import pyplot as plt"
   ]
  },
  {
   "cell_type": "markdown",
   "id": "33755df6",
   "metadata": {},
   "source": [
    "Lendo a imagem"
   ]
  },
  {
   "cell_type": "code",
   "execution_count": 2,
   "id": "2f878cad",
   "metadata": {},
   "outputs": [],
   "source": [
    "path = r'C:\\Users\\shuel\\Documents\\Workspace\\computer-vision\\computer-vision-meganha\\001-pre-processing\\images\\einstein.jpg'\n",
    "imgOriginal = cv.imread(path)"
   ]
  },
  {
   "cell_type": "code",
   "execution_count": 3,
   "id": "6cb528b5",
   "metadata": {},
   "outputs": [
    {
     "name": "stdout",
     "output_type": "stream",
     "text": [
      "[[[ 69  69  69]\n",
      "  [ 66  66  66]\n",
      "  [ 65  65  65]\n",
      "  ...\n",
      "  [ 34  34  34]\n",
      "  [ 33  33  33]\n",
      "  [ 34  34  34]]\n",
      "\n",
      " [[ 67  67  67]\n",
      "  [ 64  64  64]\n",
      "  [ 64  64  64]\n",
      "  ...\n",
      "  [ 29  29  29]\n",
      "  [ 29  29  29]\n",
      "  [ 30  30  30]]\n",
      "\n",
      " [[ 71  71  71]\n",
      "  [ 68  68  68]\n",
      "  [ 67  67  67]\n",
      "  ...\n",
      "  [ 27  27  27]\n",
      "  [ 27  27  27]\n",
      "  [ 28  28  28]]\n",
      "\n",
      " ...\n",
      "\n",
      " [[ 31  31  31]\n",
      "  [ 28  28  28]\n",
      "  [ 26  26  26]\n",
      "  ...\n",
      "  [253 253 253]\n",
      "  [252 252 252]\n",
      "  [255 255 255]]\n",
      "\n",
      " [[ 30  30  30]\n",
      "  [ 28  28  28]\n",
      "  [ 26  26  26]\n",
      "  ...\n",
      "  [253 253 253]\n",
      "  [255 255 255]\n",
      "  [255 255 255]]\n",
      "\n",
      " [[ 31  31  31]\n",
      "  [ 28  28  28]\n",
      "  [ 25  25  25]\n",
      "  ...\n",
      "  [253 253 253]\n",
      "  [255 255 255]\n",
      "  [254 254 254]]]\n"
     ]
    }
   ],
   "source": [
    "print(imgOriginal)"
   ]
  },
  {
   "cell_type": "markdown",
   "id": "422917c6",
   "metadata": {},
   "source": [
    "Função resize(src, dst, fx, fy, interpolation)\n",
    "\n",
    "Entrada:\n",
    "\n",
    "        1. src = Matriz referente a imagem\n",
    "        2. dst = Imagem de saída\n",
    "        3. fx = fator de escala horizontal\n",
    "        4. fy = fator de escala vertical \n",
    "        5. interpolation = método de interpolação\n",
    "            INTER_NEAREST\n",
    "            INTER_LINEAR\n",
    "            INTER_AREA\n",
    "            INTER_CUBIC\n",
    "\n",
    "Saída:\n",
    "        \n",
    "        1. Imagem modificada"
   ]
  },
  {
   "cell_type": "code",
   "execution_count": 4,
   "id": "82646916",
   "metadata": {},
   "outputs": [],
   "source": [
    "imgModificada = cv.resize(imgOriginal, \n",
    "                         None, \n",
    "                         fx = 0.8,\n",
    "                         fy = 0.8,\n",
    "                         interpolation = cv.INTER_CUBIC)"
   ]
  },
  {
   "cell_type": "code",
   "execution_count": 5,
   "id": "b31ddf2e",
   "metadata": {},
   "outputs": [],
   "source": [
    "cv.imshow(\"Imagem Original\", imgOriginal)\n",
    "cv.imshow(\"Imagem Modificada\", imgModificada)\n",
    "cv.waitKey(0)\n",
    "cv.destroyAllWindows()"
   ]
  },
  {
   "cell_type": "code",
   "execution_count": null,
   "id": "6b286091",
   "metadata": {},
   "outputs": [],
   "source": []
  }
 ],
 "metadata": {
  "kernelspec": {
   "display_name": "Python 3 (ipykernel)",
   "language": "python",
   "name": "python3"
  },
  "language_info": {
   "codemirror_mode": {
    "name": "ipython",
    "version": 3
   },
   "file_extension": ".py",
   "mimetype": "text/x-python",
   "name": "python",
   "nbconvert_exporter": "python",
   "pygments_lexer": "ipython3",
   "version": "3.10.5"
  }
 },
 "nbformat": 4,
 "nbformat_minor": 5
}
