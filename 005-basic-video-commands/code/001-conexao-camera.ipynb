{
 "cells": [
  {
   "cell_type": "markdown",
   "id": "88c6be39",
   "metadata": {},
   "source": [
    "### Conexão com a câmera\n",
    "Objetivo desse projeto é fazer uma simples conexão entre o OpenCV e a câmera do seu computador/Laptop"
   ]
  },
  {
   "cell_type": "markdown",
   "id": "df01562a",
   "metadata": {},
   "source": [
    "##### imports"
   ]
  },
  {
   "cell_type": "code",
   "execution_count": 32,
   "id": "e66fff95",
   "metadata": {},
   "outputs": [],
   "source": [
    "import cv2"
   ]
  },
  {
   "cell_type": "markdown",
   "id": "3abc07be",
   "metadata": {},
   "source": [
    "##### captura de video fram-por-frame"
   ]
  },
  {
   "cell_type": "code",
   "execution_count": 33,
   "id": "02030da9",
   "metadata": {},
   "outputs": [],
   "source": [
    "cap = cv2.VideoCapture(1)"
   ]
  },
  {
   "cell_type": "markdown",
   "id": "46e67a93",
   "metadata": {},
   "source": [
    "##### altura e largura"
   ]
  },
  {
   "cell_type": "code",
   "execution_count": 34,
   "id": "87076d60",
   "metadata": {},
   "outputs": [
    {
     "name": "stdout",
     "output_type": "stream",
     "text": [
      "640\n",
      "480\n"
     ]
    }
   ],
   "source": [
    "width = int(cap.get(cv2.CAP_PROP_FRAME_WIDTH))\n",
    "height = int(cap.get(cv2.CAP_PROP_FRAME_HEIGHT))\n",
    "print(width)\n",
    "print(height)"
   ]
  },
  {
   "cell_type": "markdown",
   "id": "cf35189a",
   "metadata": {},
   "source": [
    "##### salvar um vídeo"
   ]
  },
  {
   "cell_type": "code",
   "execution_count": 35,
   "id": "fa7bb5fe",
   "metadata": {},
   "outputs": [],
   "source": [
    "writer = cv2.VideoWriter('teste.mp4', cv2.VideoWriter_fourcc(*'DIVX'), 20, (width, height))"
   ]
  },
  {
   "cell_type": "markdown",
   "id": "a0c2b56a",
   "metadata": {},
   "source": [
    "##### laço de repetição"
   ]
  },
  {
   "cell_type": "code",
   "execution_count": 36,
   "id": "a085ddbe",
   "metadata": {},
   "outputs": [],
   "source": [
    "from asyncore import write\n",
    "\n",
    "\n",
    "while True:\n",
    "    ret, frame = cap.read()\n",
    "    cv2.imshow('frame', frame)\n",
    "\n",
    "    writer.write(frame) # Salve o vídeo frame a frame\n",
    "    if cv2.waitKey(1) & 0xFF == ord('q'):\n",
    "        break;\n",
    "        \n",
    "cap.release()\n",
    "writer.release() # Parar de gravar\n",
    "cv2.destroyAllWindows()"
   ]
  },
  {
   "cell_type": "code",
   "execution_count": null,
   "id": "3896b61b",
   "metadata": {},
   "outputs": [],
   "source": []
  }
 ],
 "metadata": {
  "kernelspec": {
   "display_name": "Python 3.10.5 64-bit",
   "language": "python",
   "name": "python3"
  },
  "language_info": {
   "codemirror_mode": {
    "name": "ipython",
    "version": 3
   },
   "file_extension": ".py",
   "mimetype": "text/x-python",
   "name": "python",
   "nbconvert_exporter": "python",
   "pygments_lexer": "ipython3",
   "version": "3.10.5"
  },
  "vscode": {
   "interpreter": {
    "hash": "a23bcfe06a6d672af8b0fbe906cddea9cbe9d26b453b4b4efa0a359c506158a1"
   }
  }
 },
 "nbformat": 4,
 "nbformat_minor": 5
}
