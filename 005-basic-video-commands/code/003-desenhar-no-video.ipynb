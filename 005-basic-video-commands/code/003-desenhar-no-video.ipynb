{
 "cells": [
  {
   "cell_type": "code",
   "execution_count": 7,
   "metadata": {},
   "outputs": [],
   "source": [
    "import cv2"
   ]
  },
  {
   "cell_type": "code",
   "execution_count": 8,
   "metadata": {},
   "outputs": [],
   "source": [
    "cap = cv2.VideoCapture(1)"
   ]
  },
  {
   "cell_type": "code",
   "execution_count": 9,
   "metadata": {},
   "outputs": [],
   "source": [
    "# Callback Retângulo\n",
    "def draw_rect(event, x, y, flags, params):\n",
    "    global pt1, pt2, topLeftClicked, bottomRightClicked\n",
    "    if event == cv2.EVENT_LBUTTONDOWN:\n",
    "        if topLeftClicked == True and bottomRightClicked == True:\n",
    "            pt1 = (0,0)\n",
    "            pt2 = (0,0)\n",
    "            topLeftClicked = False\n",
    "            bottomRightClicked = False\n",
    "\n",
    "        if topLeftClicked == False:\n",
    "            pt1 = (x,y)\n",
    "            topLeftClicked = True\n",
    "\n",
    "        elif bottomRightClicked == False:\n",
    "            pt2 = (x,y)\n",
    "            bottomRightClicked == True"
   ]
  },
  {
   "cell_type": "code",
   "execution_count": 10,
   "metadata": {},
   "outputs": [],
   "source": [
    "# Variáveis Globais\n",
    "pt1 = (0,0)\n",
    "pt2 = (0,0)\n",
    "\n",
    "topLeftClicked = False\n",
    "bottomRightClicked = False"
   ]
  },
  {
   "cell_type": "code",
   "execution_count": 11,
   "metadata": {},
   "outputs": [],
   "source": [
    "# Chamada das funções\n",
    "cv2.namedWindow('Teste')\n",
    "cv2.setMouseCallback('Teste', draw_rect)"
   ]
  },
  {
   "cell_type": "code",
   "execution_count": 12,
   "metadata": {},
   "outputs": [],
   "source": [
    "# Parte final | x+v y+h\n",
    "while True:\n",
    "\n",
    "    ret, frame = cap.read()\n",
    "\n",
    "    # Desenhar o retângulo de acordo com as variáveis globais\n",
    "    if topLeftClicked:\n",
    "        cv2.circle(frame, center=pt1, radius=5, color=(0,0,255))\n",
    "    if topLeftClicked and bottomRightClicked:\n",
    "        cv2.rectangle(frame, pt1, pt2, color=(0,0,255), thickness=1)\n",
    "\n",
    "    cv2.imshow('Teste', frame)\n",
    "\n",
    "    if cv2.waitKey(1) & 0xFF == ord('q'):\n",
    "        break\n",
    "\n",
    "cap.release()\n",
    "cv2.destroyAllWindows()"
   ]
  }
 ],
 "metadata": {
  "kernelspec": {
   "display_name": "Python 3.10.5 64-bit",
   "language": "python",
   "name": "python3"
  },
  "language_info": {
   "codemirror_mode": {
    "name": "ipython",
    "version": 3
   },
   "file_extension": ".py",
   "mimetype": "text/x-python",
   "name": "python",
   "nbconvert_exporter": "python",
   "pygments_lexer": "ipython3",
   "version": "3.10.5"
  },
  "orig_nbformat": 4,
  "vscode": {
   "interpreter": {
    "hash": "a23bcfe06a6d672af8b0fbe906cddea9cbe9d26b453b4b4efa0a359c506158a1"
   }
  }
 },
 "nbformat": 4,
 "nbformat_minor": 2
}
