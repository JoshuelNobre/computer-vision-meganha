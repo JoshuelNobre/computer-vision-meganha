{
 "cells": [
  {
   "cell_type": "markdown",
   "metadata": {},
   "source": [
    "### Binarização adaptativa\n",
    "Esse étodo é usado quando a imagem não possui iluminação adequada para o procedimento de binarização. A binarização adaptativa calcula diferentes valores de limiar para cada região da imagem, logo cada região é tratada a fim de obter o melhor resultado  considerano o seu contraste "
   ]
  },
  {
   "cell_type": "code",
   "execution_count": 8,
   "metadata": {},
   "outputs": [],
   "source": [
    "import cv2\n",
    "import numpy as np\n",
    "from matplotlib import pyplot as plt\n",
    "%matplotlib inline"
   ]
  },
  {
   "cell_type": "markdown",
   "metadata": {},
   "source": [
    "função **adaptativeThreshold(src, maxValue, adaptativeMethod, thresholdType, blockSize, C)**\n",
    "Entrada:\n",
    "\n",
    "        1. src = Matriz referente à imagem\n",
    "        2. maxValue = Valor de intensidade máxima do pixel\n",
    "        3. adaptiveMethod = ADAPTIVE_THRESH_MEAN_C\n",
    "                            ADAPTIVE_THRESH_GAUSSIAN_C\n",
    "        4. thresholdType = THRESH_BINARY - Objeto de interesse em cor preta.\n",
    "                           THRESH_BINARY_INV - Objeto de interesse em cor branca.\n",
    "        5. blockSize = Tamanho da máscara\n",
    "        6. C = Constante de subtração da média ou da média ponderada\n",
    "Saída: \n",
    "\n",
    "        1. matriz refeten a imagem binarizada adaptada"
   ]
  },
  {
   "cell_type": "code",
   "execution_count": 9,
   "metadata": {},
   "outputs": [],
   "source": [
    "path = r'C:\\Users\\shuel\\Documents\\Workspace\\computer-vision\\computer-vision-meganha\\006-object segmentation\\images'\n",
    "img = cv2.imread(path + '\\olho.PNG', 0) # Coloco \"0\" para ler em tons de cinza"
   ]
  },
  {
   "cell_type": "code",
   "execution_count": 10,
   "metadata": {},
   "outputs": [],
   "source": [
    "# Passar para tons de cinza, não estou usando mas é um modo \n",
    "# gray = cv2.cvtColor(img, cv2.COLOR_BGR2GRAY)"
   ]
  },
  {
   "cell_type": "code",
   "execution_count": 11,
   "metadata": {},
   "outputs": [],
   "source": [
    "# Aplicando filtro de mediana na imagem para suaviza-la melhor\n",
    "imgGauss = cv2.medianBlur(img, 7)"
   ]
  },
  {
   "cell_type": "code",
   "execution_count": 12,
   "metadata": {},
   "outputs": [],
   "source": [
    "th2 = cv2.adaptiveThreshold(imgGauss, 255, cv2.ADAPTIVE_THRESH_MEAN_C, cv2.THRESH_BINARY, 11, 5)\n",
    "th3 = cv2.adaptiveThreshold(imgGauss, 255, cv2.ADAPTIVE_THRESH_GAUSSIAN_C, cv2.THRESH_BINARY, 11, 2)\n"
   ]
  },
  {
   "cell_type": "code",
   "execution_count": 13,
   "metadata": {},
   "outputs": [],
   "source": [
    "cv2.imshow('Original', img)\n",
    "cv2.imshow('Imagem Media', th2)\n",
    "cv2.imshow('Imagem Gaussiana', th3)\n",
    "\n",
    "cv2.waitKey(0)\n",
    "cv2.destroyAllWindows()"
   ]
  },
  {
   "cell_type": "code",
   "execution_count": null,
   "metadata": {},
   "outputs": [],
   "source": []
  }
 ],
 "metadata": {
  "kernelspec": {
   "display_name": "Python 3.10.5 64-bit",
   "language": "python",
   "name": "python3"
  },
  "language_info": {
   "codemirror_mode": {
    "name": "ipython",
    "version": 3
   },
   "file_extension": ".py",
   "mimetype": "text/x-python",
   "name": "python",
   "nbconvert_exporter": "python",
   "pygments_lexer": "ipython3",
   "version": "3.10.5"
  },
  "orig_nbformat": 4,
  "vscode": {
   "interpreter": {
    "hash": "a23bcfe06a6d672af8b0fbe906cddea9cbe9d26b453b4b4efa0a359c506158a1"
   }
  }
 },
 "nbformat": 4,
 "nbformat_minor": 2
}
