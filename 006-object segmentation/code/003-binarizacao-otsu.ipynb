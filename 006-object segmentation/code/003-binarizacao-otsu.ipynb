{
 "cells": [
  {
   "cell_type": "markdown",
   "metadata": {},
   "source": [
    "### Binarização por Otsu\n",
    "Foi abordado na binarização por limiar e adaptativa um valor no qual cada pixel da imagem é comparado e depois segmentado de acordo com essa comparação. Mas um grande inconveniente desses métodos é que o usuário precisa passar esses valores de limiar para ser feito a segmentação da imagem.\n",
    "\n",
    "Uma forma de automatizar esse procedimento é justamente o algoritm de Otsu, no qual define um limiar baseado no histogreama da imagem.\n",
    "\n",
    "Essse algoritmo pode ser usado junto à função threhold, necessitando apenas que a constante THRESH_OTSU seja tomada ao tipo definido para binarização.\n"
   ]
  },
  {
   "cell_type": "code",
   "execution_count": 2,
   "metadata": {},
   "outputs": [],
   "source": [
    "import cv2\n",
    "import numpy as np\n",
    "from matplotlib import pyplot as plt\n",
    "%matplotlib inline"
   ]
  },
  {
   "cell_type": "code",
   "execution_count": 5,
   "metadata": {},
   "outputs": [],
   "source": [
    "path = r'C:\\Users\\shuel\\Documents\\Workspace\\computer-vision\\computer-vision-meganha\\006-object segmentation\\images'\n",
    "img = cv2.imread(path + '\\cafe.jpg', 0)"
   ]
  },
  {
   "cell_type": "code",
   "execution_count": 7,
   "metadata": {},
   "outputs": [
    {
     "name": "stdout",
     "output_type": "stream",
     "text": [
      "O melhor limiar é:  121.0\n"
     ]
    }
   ],
   "source": [
    "metodo = cv2.THRESH_BINARY_INV + cv2.THRESH_OTSU\n",
    "ret, imgBin = cv2.threshold(img, 0, 255, metodo)\n",
    "print('O melhor limiar é: ', ret)"
   ]
  },
  {
   "cell_type": "code",
   "execution_count": 8,
   "metadata": {},
   "outputs": [
    {
     "data": {
      "image/png": "[encoded data removed]",
      "text/plain": [
       "<Figure size 432x288 with 1 Axes>"
      ]
     },
     "metadata": {
      "needs_background": "light"
     },
     "output_type": "display_data"
    }
   ],
   "source": [
    "plt.hist(img.ravel(), 256, [0, 256])\n",
    "cv2.imshow('Original', img)\n",
    "plt.show()\n",
    "cv2.imshow('Otsu', imgBin)\n",
    "\n",
    "cv2.waitKey(0)\n",
    "cv2.destroyAllWindows()"
   ]
  },
  {
   "cell_type": "code",
   "execution_count": null,
   "metadata": {},
   "outputs": [],
   "source": []
  }
 ],
 "metadata": {
  "kernelspec": {
   "display_name": "Python 3.10.5 64-bit",
   "language": "python",
   "name": "python3"
  },
  "language_info": {
   "codemirror_mode": {
    "name": "ipython",
    "version": 3
   },
   "file_extension": ".py",
   "mimetype": "text/x-python",
   "name": "python",
   "nbconvert_exporter": "python",
   "pygments_lexer": "ipython3",
   "version": "3.10.5"
  },
  "orig_nbformat": 4,
  "vscode": {
   "interpreter": {
    "hash": "a23bcfe06a6d672af8b0fbe906cddea9cbe9d26b453b4b4efa0a359c506158a1"
   }
  }
 },
 "nbformat": 4,
 "nbformat_minor": 2
}
