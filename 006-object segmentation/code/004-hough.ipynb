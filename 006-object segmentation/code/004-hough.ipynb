{
 "cells": [
  {
   "cell_type": "markdown",
   "metadata": {},
   "source": [
    "### Binarização por Otsu\n",
    "Foi abordado na binarização por limiar e adaptativa um valor no qual cada pixel da imagem é comparado e depois segmentado de acordo com essa comparação. Mas um grande inconveniente desses métodos é que o usuário precisa passar esses valores de limiar para ser feito a segmentação da imagem.\n",
    "\n",
    "Uma forma de automatizar esse procedimento é justamente o algoritm de Otsu, no qual define um limiar baseado no histogreama da imagem.\n",
    "\n",
    "Essse algoritmo pode ser usado junto à função threhold, necessitando apenas que a constante THRESH_OTSU seja tomada ao tipo definido para binarização.\n"
   ]
  },
  {
   "cell_type": "code",
   "execution_count": 1,
   "metadata": {},
   "outputs": [],
   "source": [
    "import cv2\n",
    "import numpy as np\n",
    "from matplotlib import pyplot as plt\n",
    "%matplotlib inline"
   ]
  },
  {
   "cell_type": "code",
   "execution_count": 10,
   "metadata": {},
   "outputs": [],
   "source": [
    "path = r'C:\\Users\\shuel\\Documents\\Workspace\\computer-vision\\computer-vision-meganha\\006-object segmentation\\images'\n",
    "img = cv2.imread(path + '\\estrada.jpg')"
   ]
  },
  {
   "cell_type": "code",
   "execution_count": 11,
   "metadata": {},
   "outputs": [],
   "source": [
    "# Convertendo para tons de cinza e aplicando a detectção de bordas por canny\n",
    "gray = cv2.cvtColor(img, cv2.COLOR_BGR2GRAY)\n",
    "edges = cv2.Canny(gray, 70, 255)"
   ]
  },
  {
   "cell_type": "markdown",
   "metadata": {},
   "source": [
    "Na transformação de hough é preciso muita computação. A transformação Hough Probabilistica é uma otimização da Transformação Hough que foi comentada na aula.\n",
    "\n",
    "Essa função não leva todos os pontos em consideração, em vez disso, leva apenas um subconjunto aleatório de pontos e isso é suficiente para a detecção de linha.\n",
    "\n",
    "Função HoughLinesP(img, p, 0, minVal, maxVal)\n",
    "Entrada:\n",
    "\n",
    "        1. img = Imagem com a qual queremos trabalhar binária\n",
    "        2. p = distância perpendicular da origem até a linha\n",
    "        3. 0 = ângulo perpendicular da linha ao eixo\n",
    "        4. minVal = comprimento mínimo da linha. Segmentos de linha mais curtos do que isso ~sao rejeitados\n",
    "        5. maxVal = comprimento máximo da linha\n",
    "\n",
    "Saída:\n",
    "\n",
    "        1. Imagem com bordas detectadas"
   ]
  },
  {
   "cell_type": "code",
   "execution_count": 12,
   "metadata": {},
   "outputs": [],
   "source": [
    "lines = cv2.HoughLinesP(edges, 1, np.pi/180, 10, 200)"
   ]
  },
  {
   "cell_type": "markdown",
   "metadata": {},
   "source": [
    "Desenhar as linhas detectadas\n",
    "\n",
    "Função line(img, coord1, coord2, cor, lag)\n",
    "\n",
    "Entrada:\n",
    "\n",
    "        1. img = Imagem com a qual queremos trabalhar binária\n",
    "        2. coord1 = coordenadas iniciais\n",
    "        3. coord2 = coordenadas finais\n",
    "        4. cor = cor da linha\n",
    "        5. lag = grossura da linha\n",
    "\n",
    "Saída:\n",
    "        \n",
    "        1. linha desenhada"
   ]
  },
  {
   "cell_type": "code",
   "execution_count": 13,
   "metadata": {},
   "outputs": [],
   "source": [
    "for line in lines:\n",
    "    x1, y1, x2, y2 = line[0]\n",
    "    cv2.line(img, (x1,y1), (x2,y2), (0, 255, 0), 1)\n",
    "\n",
    "cv2.imshow(\"Imagem\", img)\n",
    "cv2.waitKey(0)\n",
    "cv2.destroyAllWindows()"
   ]
  },
  {
   "cell_type": "code",
   "execution_count": null,
   "metadata": {},
   "outputs": [],
   "source": []
  }
 ],
 "metadata": {
  "kernelspec": {
   "display_name": "Python 3.10.5 64-bit",
   "language": "python",
   "name": "python3"
  },
  "language_info": {
   "codemirror_mode": {
    "name": "ipython",
    "version": 3
   },
   "file_extension": ".py",
   "mimetype": "text/x-python",
   "name": "python",
   "nbconvert_exporter": "python",
   "pygments_lexer": "ipython3",
   "version": "3.10.5"
  },
  "orig_nbformat": 4,
  "vscode": {
   "interpreter": {
    "hash": "a23bcfe06a6d672af8b0fbe906cddea9cbe9d26b453b4b4efa0a359c506158a1"
   }
  }
 },
 "nbformat": 4,
 "nbformat_minor": 2
}
