{
 "cells": [
  {
   "cell_type": "markdown",
   "metadata": {},
   "source": [
    "### Segmentação de um objeto por espaço de cor HSV\n",
    "##### Objetivos:\n",
    "- Como converter imagens para um espaço de cores HSV (BGR <-> HSV)\n",
    "- Segmentar um objeto de um vídio\n",
    "##### Espaço de cor HSV\n",
    "- Um dos modelos principais e mais utilizados para representação de cor\n",
    "- Permite um grande grau de separação entre a cor e a iluminação\n",
    "- São os canais para representar a matriz (hue), a saturação (saturation) e o valor (value)\n",
    "- O componente Value é desagregado da informação de cor, enquanto o Hue e o Saturation estão intimamente relacionados à percepção humana de cores. "
   ]
  },
  {
   "cell_type": "markdown",
   "metadata": {},
   "source": [
    "### Como encontrar os valores HSV de uma imagem:\n",
    "É muito simples e você pode usar a mesma função, cv2.cvtColor()"
   ]
  },
  {
   "cell_type": "code",
   "execution_count": 1,
   "metadata": {},
   "outputs": [],
   "source": [
    "import numpy as np\n",
    "import cv2"
   ]
  },
  {
   "cell_type": "code",
   "execution_count": 5,
   "metadata": {},
   "outputs": [
    {
     "name": "stdout",
     "output_type": "stream",
     "text": [
      "A cor azul no espaço HSV possui o valor [[[120 255 255]]]\n",
      "A cor verde no espaço HSV possui o valor [[[ 60 255 255]]]\n",
      "A cor vermelho no espaço HSV possui o valor [[[  0 255 255]]]\n"
     ]
    }
   ],
   "source": [
    "# Passar padrão BGR\n",
    "azul = np.uint8([[[255, 0, 0]]])\n",
    "hsv_azul = cv2.cvtColor(azul, cv2.COLOR_BGR2HSV)\n",
    "\n",
    "verde = np.uint8([[[0, 255, 0]]])\n",
    "hsv_verde = cv2.cvtColor(verde, cv2.COLOR_BGR2HSV)\n",
    "\n",
    "vermelho = np.uint8([[[0, 0, 255]]])\n",
    "hsv_vermelho = cv2.cvtColor(vermelho, cv2.COLOR_BGR2HSV)\n",
    "\n",
    "print(f'A cor azul no espaço HSV possui o valor {hsv_azul}')\n",
    "print(f'A cor verde no espaço HSV possui o valor {hsv_verde}')\n",
    "print(f'A cor vermelho no espaço HSV possui o valor {hsv_vermelho}')\n"
   ]
  },
  {
   "cell_type": "markdown",
   "metadata": {},
   "source": [
    "#### Limites superiores e inferiores\n",
    "- limite inferior [H-20, 100, 100]\n",
    "- limite inferior [H+20, 255, 255]\n",
    "- ferramenta de edição de imagem como o ***GIMP*** ou qualquer ***conversor online***"
   ]
  },
  {
   "cell_type": "code",
   "execution_count": 7,
   "metadata": {},
   "outputs": [],
   "source": [
    "cap = cv2.VideoCapture(0)\n",
    "\n",
    "while True:\n",
    "\n",
    "    ret, frame = cap.read()\n",
    "    hsv = cv2.cvtColor(frame, cv2.COLOR_BGR2HSV)\n",
    "    lim_inf = np.array([100, 100, 100])\n",
    "    lim_sup = np.array([140, 255, 255])\n",
    "\n",
    "    color_mask = cv2.inRange(hsv, lim_inf, lim_sup)\n",
    "    (couts, hir) = cv2.findContours(color_mask, cv2.RETR_TREE, cv2.CHAIN_APPROX_SIMPLE)\n",
    "\n",
    "    for cout in couts:\n",
    "        area = cv2.countourArea(cout)\n",
    "\n",
    "        if (area > 800):\n",
    "            x, y, w, h = cv2.boundingRect(cout)\n",
    "            frame = cv2.rectangle(frame, (x,y), (x+w, y+h), (0, 0, 255), 2)\n",
    "\n",
    "    cv2.imshow('Mascara', color_mask)\n",
    "    cv2.imshow('ObjectDetectionTrack', frame)\n",
    "\n",
    "    if cv2.waitKey(0):\n",
    "        break\n",
    "\n",
    "cv2.destroyAllWindows()\n",
    "cap.release()"
   ]
  },
  {
   "cell_type": "code",
   "execution_count": null,
   "metadata": {},
   "outputs": [],
   "source": []
  }
 ],
 "metadata": {
  "kernelspec": {
   "display_name": "Python 3.10.5 64-bit",
   "language": "python",
   "name": "python3"
  },
  "language_info": {
   "codemirror_mode": {
    "name": "ipython",
    "version": 3
   },
   "file_extension": ".py",
   "mimetype": "text/x-python",
   "name": "python",
   "nbconvert_exporter": "python",
   "pygments_lexer": "ipython3",
   "version": "3.10.5"
  },
  "orig_nbformat": 4,
  "vscode": {
   "interpreter": {
    "hash": "a23bcfe06a6d672af8b0fbe906cddea9cbe9d26b453b4b4efa0a359c506158a1"
   }
  }
 },
 "nbformat": 4,
 "nbformat_minor": 2
}
