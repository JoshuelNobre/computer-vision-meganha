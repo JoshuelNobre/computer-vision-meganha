{
 "cells": [
  {
   "cell_type": "markdown",
   "metadata": {},
   "source": [
    "### Extração de características - Aspectos\n",
    "\n",
    "As características de aspectos de um objeto de interesse define informações sobre a sua cor. As informações extraídas pela cor é uma das características mais importantes.\n",
    "\n",
    "Uma das formas de extraçãoo de características pela cor seria através da média e do desvio padrão da mesma."
   ]
  },
  {
   "cell_type": "code",
   "execution_count": 1,
   "metadata": {},
   "outputs": [],
   "source": [
    "import cv2 \n",
    "import numpy as np\n",
    "from matplotlib import pyplot as plt\n",
    "%matplotlib inline"
   ]
  },
  {
   "cell_type": "code",
   "execution_count": 2,
   "metadata": {},
   "outputs": [],
   "source": [
    "path = r'C:\\Users\\shuel\\Documents\\Workspace\\computer-vision\\computer-vision-meganha\\007-feature-extraction\\images\\tampa_azul.jpg'\n",
    "img = cv2.imread(path, 1)\n",
    "img_gray = cv2.imread(path, 0)"
   ]
  },
  {
   "cell_type": "code",
   "execution_count": 3,
   "metadata": {},
   "outputs": [],
   "source": [
    "cv2.imshow('Imagem em RGB', img)\n",
    "cv2.imshow('Imagem em tons de cinza', img_gray)\n",
    "\n",
    "cv2.waitKey(0)\n",
    "cv2.destroyAllWindows()"
   ]
  },
  {
   "cell_type": "markdown",
   "metadata": {},
   "source": [
    "Cálculo da média e do desvio padrão das imagens em RGB e tons de cinza.\n",
    "\n",
    "A função ***mean*** retorna a média de todos os canais RGB começando pelo azul, depois o verde e por último o vermelhoo. O quartoo parâmetro é o valor do alpha da imagem, pode-se dizer que seria transparência da imagem.\n",
    "\n",
    "A funçãoo ***meanStdDev*** calcula a média e desvio padrão da imagem de forma independente para cada canal e os retorna através dos parâmetros de saída.\n",
    "\n",
    "Assim, os valores mean e stdev são valores escalares para imagens coloridas que dividem a imagem em canais e calculam e aplicam um limite para cada canal de forma independente.\n",
    "\n",
    "Para essa programação é usado também a função ***flatten***. Essa função retorna uma cópia da matriz em uma dimensão (1D)"
   ]
  },
  {
   "cell_type": "code",
   "execution_count": 4,
   "metadata": {},
   "outputs": [
    {
     "name": "stdout",
     "output_type": "stream",
     "text": [
      "Valores da media e desvio padrão RGB\n",
      "(186.72332373508843, 115.3949540655423, 84.14405594405594, 0.0)\n",
      "[186.72332374 115.39495407  84.14405594  66.53434632  92.698083\n",
      " 100.51165611]\n",
      "Valores da media e desvio padrão Tons de cinza\n",
      "(113.9375017139723, 0.0, 0.0, 0.0)\n",
      "[113.93750171  87.96396844]\n"
     ]
    }
   ],
   "source": [
    "valorMedio = cv2.mean(img)\n",
    "valorMedioGray = cv2.mean(img_gray)\n",
    "\n",
    "(mean, std) = cv2.meanStdDev(img)\n",
    "(meanGray, stdGray) = cv2.meanStdDev(img_gray)\n",
    "\n",
    "RGB = np.concatenate([(mean, std)]).flatten() #flatten retorna uma cópia das matrizes em 1d\n",
    "Gray = np.concatenate([(meanGray, stdGray)]).flatten()\n",
    "\n",
    "print(\"Valores da media e desvio padrão RGB\")\n",
    "print(valorMedio)\n",
    "print(RGB)\n",
    "\n",
    "print(\"Valores da media e desvio padrão Tons de cinza\")\n",
    "print(valorMedioGray)\n",
    "print(Gray)"
   ]
  },
  {
   "cell_type": "markdown",
   "metadata": {},
   "source": []
  }
 ],
 "metadata": {
  "kernelspec": {
   "display_name": "Python 3.10.5 64-bit",
   "language": "python",
   "name": "python3"
  },
  "language_info": {
   "codemirror_mode": {
    "name": "ipython",
    "version": 3
   },
   "file_extension": ".py",
   "mimetype": "text/x-python",
   "name": "python",
   "nbconvert_exporter": "python",
   "pygments_lexer": "ipython3",
   "version": "3.10.5"
  },
  "orig_nbformat": 4,
  "vscode": {
   "interpreter": {
    "hash": "a23bcfe06a6d672af8b0fbe906cddea9cbe9d26b453b4b4efa0a359c506158a1"
   }
  }
 },
 "nbformat": 4,
 "nbformat_minor": 2
}
