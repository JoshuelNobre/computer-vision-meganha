{
 "cells": [
  {
   "cell_type": "markdown",
   "metadata": {},
   "source": [
    "### Extração de características - Dimensionais\n",
    "\n",
    "As características dimensionais definem informações sobre o tamanho do objeto de interesse. A área, o perímetro e o diâmetro são as três principais dessa categoria."
   ]
  },
  {
   "cell_type": "code",
   "execution_count": 1,
   "metadata": {},
   "outputs": [],
   "source": [
    "import cv2 \n",
    "import numpy as np"
   ]
  },
  {
   "cell_type": "code",
   "execution_count": 13,
   "metadata": {},
   "outputs": [],
   "source": [
    "path = r'C:\\Users\\shuel\\Documents\\Workspace\\computer-vision\\computer-vision-meganha\\007-feature-extraction\\images\\triangle.jpg'\n",
    "im = cv2.imread(path, 0)"
   ]
  },
  {
   "cell_type": "markdown",
   "metadata": {},
   "source": [
    "##### Segmentaçao por binaziração"
   ]
  },
  {
   "cell_type": "code",
   "execution_count": 14,
   "metadata": {},
   "outputs": [],
   "source": [
    "tipo = cv2.THRESH_BINARY_INV\n",
    "_, imgBin = cv2.threshold(im, 0, 255, tipo)"
   ]
  },
  {
   "cell_type": "markdown",
   "metadata": {},
   "source": [
    "A área e um ojbeto de interesse é definida pelo total de pixels que o representa. E através da função ***cotourArea*** é possível obte-la\n",
    "\n",
    "Para o uso dessa função é preciso primeiro usar outra função, a ***findCountours***. Essa função extrai de uma imagem binária os pontos que representam os contornos dos objetos segmentados.\n",
    "\n",
    "FUNÇÃO ***findCountours(img, modo, método)***\n",
    "\n",
    "Entrada:\n",
    "\n",
    "        1. img = Imagem binária com a qual queremos trabalhar \n",
    "        2. modo = pontos extraídos da imagem serão armazenados (cv2.RETR_TREE)\n",
    "        3. método = pontos da imagem binária (cv2.CHAIN_APPROX_NONE, cv2.CHAIN_APPROX_SIMPLE).\n",
    "\n",
    "Saída:\n",
    "\n",
    "        1. dados da imagem que queremos calcular a área\n",
    "\n",
    "\n",
    "\n",
    "\n",
    "FUNÇÃO ***cotourArea(Saida_findCountours)***\n",
    "\n",
    "Entrada:\n",
    "\n",
    "        1.Saida_findCountours = Objeto segmentado obtido pela função findCountours\n",
    "\n",
    "Saída:\n",
    "\n",
    "        1. Área do objeto estudado\n"
   ]
  },
  {
   "cell_type": "code",
   "execution_count": 15,
   "metadata": {},
   "outputs": [],
   "source": [
    "modo = cv2.RETR_TREE\n",
    "metodo = cv2.CHAIN_APPROX_SIMPLE\n",
    "\n",
    "contorno, hierarquia = cv2.findContours(imgBin, modo, metodo)"
   ]
  },
  {
   "cell_type": "markdown",
   "metadata": {},
   "source": [
    "Para encontar o perímetro de um objeto outra função é necessária. O perímetro de um objeto é definido pela soma dos pixels que representam o seu contorno\n",
    "\n",
    "Atravéns ad função arcLenght pode-se encontrar esse perímetro.\n",
    "\n",
    "FUNÇÃO ***arcLength(Saída_findContours, contornos)***\n",
    "\n",
    "Entrada:\n",
    "\n",
    "        1. Saída_findContours = Objeto segmentado obtio pela função findContours\n",
    "        2. contornos = contorno que será obtido (TRUE = contorno fechado, FALSE = contorno fechado)\n",
    "\n",
    "Saída:\n",
    "\n",
    "        1. Área do objeto estudaddo\n",
    "\n",
    "Para ter certeza que estamos trabalhando com uma segmentação no mínimo detectável é preciso fazer uma verificação."
   ]
  },
  {
   "cell_type": "code",
   "execution_count": 17,
   "metadata": {},
   "outputs": [
    {
     "name": "stdout",
     "output_type": "stream",
     "text": [
      "86112.0\n",
      "1174.0\n"
     ]
    }
   ],
   "source": [
    "if len(contorno) >0:\n",
    "    obj = contorno[0]\n",
    "    area = cv2.contourArea(obj)\n",
    "    print(area)\n",
    "\n",
    "    perimetro = cv2.arcLength(obj, True)\n",
    "    print(perimetro)\n",
    "\n",
    "else:\n",
    "    print('Sem contorno encontrado')"
   ]
  }
 ],
 "metadata": {
  "kernelspec": {
   "display_name": "Python 3.10.5 64-bit",
   "language": "python",
   "name": "python3"
  },
  "language_info": {
   "codemirror_mode": {
    "name": "ipython",
    "version": 3
   },
   "file_extension": ".py",
   "mimetype": "text/x-python",
   "name": "python",
   "nbconvert_exporter": "python",
   "pygments_lexer": "ipython3",
   "version": "3.10.5"
  },
  "orig_nbformat": 4,
  "vscode": {
   "interpreter": {
    "hash": "a23bcfe06a6d672af8b0fbe906cddea9cbe9d26b453b4b4efa0a359c506158a1"
   }
  }
 },
 "nbformat": 4,
 "nbformat_minor": 2
}
