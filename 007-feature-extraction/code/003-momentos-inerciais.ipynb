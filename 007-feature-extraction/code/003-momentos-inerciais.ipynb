{
 "cells": [
  {
   "cell_type": "markdown",
   "metadata": {},
   "source": [
    "### Extração de características - Inerciais\n",
    "\n",
    "As características inerciais efinem informações sobre os momentos, o centro geométrico e as formas geométricas envolventes de um objeto de interesse.\n",
    "\n",
    "É possível através dessas características reconhecer objetos mesmo que tenham sofrido alterações na escala, rotação ou translação."
   ]
  },
  {
   "cell_type": "code",
   "execution_count": 2,
   "metadata": {},
   "outputs": [],
   "source": [
    "import cv2 \n",
    "import numpy as np"
   ]
  },
  {
   "cell_type": "code",
   "execution_count": 4,
   "metadata": {},
   "outputs": [],
   "source": [
    "path = r'C:\\Users\\shuel\\Documents\\Workspace\\computer-vision\\computer-vision-meganha\\007-feature-extraction\\images\\circle.jpg'\n",
    "img = cv2.imread(path, 0)"
   ]
  },
  {
   "cell_type": "markdown",
   "metadata": {},
   "source": [
    "##### Momentos de uma imagem\n",
    "\n",
    "Os moomentos de uma imagem, também conhecido coomo momnetos estatísticos, é um dos principais métodos para extração e características. São obtidos por funções matemáticas, com base estatísticas, que fornecem valore que representam um determinado objeto.\n",
    "\n",
    "Através de imagens binárias podemos calcular esses momentos. A função ***moments*** extrai essas características retomando 24 momentos que caracterizam a imagem"
   ]
  },
  {
   "cell_type": "code",
   "execution_count": 6,
   "metadata": {},
   "outputs": [
    {
     "name": "stdout",
     "output_type": "stream",
     "text": [
      "24\n",
      "{'m00': 9740472.0, 'm10': 1450751967.0, 'm01': 1414048943.0, 'm20': 247066445923.0, 'm11': 210617730829.0, 'm02': 235272834855.0, 'm30': 46083717823557.0, 'm21': 35917968379499.0, 'm12': 35061438839295.0, 'm03': 42998284860185.0, 'mu20': 30990544287.59987, 'mu11': 8400450.398123592, 'mu02': 29991775251.377346, 'mu30': 53985530320.72846, 'mu21': 48205533503.201195, 'mu12': 17317235786.49001, 'mu03': 135169024614.22131, 'nu20': 0.00032663987393915736, 'nu11': 8.854062173322815e-08, 'nu02': 0.00031611286321425714, 'nu30': 1.823170841030676e-07, 'nu21': 1.6279718386987557e-07, 'nu12': 5.848285484204813e-08, 'nu03': 4.564856968582627e-07}\n"
     ]
    }
   ],
   "source": [
    "momentos = cv2.moments(img)\n",
    "\n",
    "print(len(momentos))\n",
    "print(momentos)"
   ]
  },
  {
   "cell_type": "code",
   "execution_count": 8,
   "metadata": {},
   "outputs": [
    {
     "name": "stdout",
     "output_type": "stream",
     "text": [
      "area\n",
      "9740472.0\n",
      "\n",
      "\n",
      "medias\n",
      "148.94062289794581\n",
      "145.17252788160573\n",
      "\n",
      "\n",
      "centroide\n",
      "148\n",
      "145\n"
     ]
    }
   ],
   "source": [
    "area = momentos['m00']\n",
    "print('area')\n",
    "print(area)\n",
    "print('\\n')\n",
    "\n",
    "\n",
    "X = momentos['m10']/area\n",
    "Y = momentos['m01']/area\n",
    "print('medias')\n",
    "print(X)\n",
    "print(Y)\n",
    "print('\\n')\n",
    "\n",
    "cx = int(momentos['m10']/momentos['m00'])\n",
    "cy = int(momentos['m01']/momentos['m00'])\n",
    "\n",
    "print('centroide')\n",
    "print(cx)\n",
    "print(cy)"
   ]
  }
 ],
 "metadata": {
  "kernelspec": {
   "display_name": "Python 3.10.5 64-bit",
   "language": "python",
   "name": "python3"
  },
  "language_info": {
   "codemirror_mode": {
    "name": "ipython",
    "version": 3
   },
   "file_extension": ".py",
   "mimetype": "text/x-python",
   "name": "python",
   "nbconvert_exporter": "python",
   "pygments_lexer": "ipython3",
   "version": "3.10.5"
  },
  "orig_nbformat": 4,
  "vscode": {
   "interpreter": {
    "hash": "a23bcfe06a6d672af8b0fbe906cddea9cbe9d26b453b4b4efa0a359c506158a1"
   }
  }
 },
 "nbformat": 4,
 "nbformat_minor": 2
}
