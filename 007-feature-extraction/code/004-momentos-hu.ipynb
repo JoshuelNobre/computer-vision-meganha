{
 "cells": [
  {
   "cell_type": "markdown",
   "metadata": {},
   "source": [
    "### Extração de características - Momentos invariantes de Hu\n",
    "\n",
    "Os momentos invariantes de Hu são sete momentos calculados a partir dos momentos de uma imagem. Através deles, podemos obter a área, o centro geométrico e até mesmo um vetoor de características invariantes em escala, rotação e translação de um objeto\n",
    "\n",
    "A função ***HuMoments*** calcula esses momentos invariantes. Essa função requer como parâmetro apenas os momentos do objeto."
   ]
  },
  {
   "cell_type": "code",
   "execution_count": 1,
   "metadata": {},
   "outputs": [],
   "source": [
    "import cv2 \n",
    "import numpy as np"
   ]
  },
  {
   "cell_type": "code",
   "execution_count": 2,
   "metadata": {},
   "outputs": [
    {
     "name": "stdout",
     "output_type": "stream",
     "text": [
      "[ 6.42752737e-04  1.10849313e-10  1.06516013e-15  4.41495897e-13\n",
      " -5.94760320e-27 -3.37400894e-18 -7.50261259e-27]\n"
     ]
    }
   ],
   "source": [
    "path = r'C:\\Users\\shuel\\Documents\\Workspace\\computer-vision\\computer-vision-meganha\\007-feature-extraction\\images\\circle.jpg'\n",
    "img = cv2.imread(path, 0)\n",
    "\n",
    "momentos = cv2.moments(img)\n",
    "\n",
    "momentosHu = cv2.HuMoments(momentos)\n",
    "\n",
    "print(momentosHu.flatten()) # Encontramos os 7 melhores momentos calculados"
   ]
  },
  {
   "cell_type": "code",
   "execution_count": null,
   "metadata": {},
   "outputs": [],
   "source": []
  }
 ],
 "metadata": {
  "kernelspec": {
   "display_name": "Python 3.10.5 64-bit",
   "language": "python",
   "name": "python3"
  },
  "language_info": {
   "codemirror_mode": {
    "name": "ipython",
    "version": 3
   },
   "file_extension": ".py",
   "mimetype": "text/x-python",
   "name": "python",
   "nbconvert_exporter": "python",
   "pygments_lexer": "ipython3",
   "version": "3.10.5"
  },
  "orig_nbformat": 4,
  "vscode": {
   "interpreter": {
    "hash": "a23bcfe06a6d672af8b0fbe906cddea9cbe9d26b453b4b4efa0a359c506158a1"
   }
  }
 },
 "nbformat": 4,
 "nbformat_minor": 2
}
