{
 "cells": [
  {
   "cell_type": "code",
   "execution_count": 1,
   "metadata": {},
   "outputs": [],
   "source": [
    "import imutils\n",
    "import cv2\n",
    "import numpy as np\n",
    "import pandas as pd\n",
    "import os\n",
    "import matplotlib.pyplot as plt\n",
    "import random\n",
    "import time\n",
    "import glob\n",
    "%matplotlib inline"
   ]
  },
  {
   "cell_type": "code",
   "execution_count": 2,
   "metadata": {},
   "outputs": [],
   "source": [
    "# Caminho\n",
    "path = r'C:\\Users\\shuel\\Documents\\Workspace\\computer-vision\\computer-vision-meganha\\007-feature-extraction\\images'"
   ]
  },
  {
   "cell_type": "code",
   "execution_count": 3,
   "metadata": {},
   "outputs": [
    {
     "name": "stdout",
     "output_type": "stream",
     "text": [
      "['C:\\\\Users\\\\shuel\\\\Documents\\\\Workspace\\\\computer-vision\\\\computer-vision-meganha\\\\007-feature-extraction\\\\images\\\\Captcha_cut\\\\captcha_pt_0.png', 'C:\\\\Users\\\\shuel\\\\Documents\\\\Workspace\\\\computer-vision\\\\computer-vision-meganha\\\\007-feature-extraction\\\\images\\\\Captcha_cut\\\\captcha_pt_1.png', 'C:\\\\Users\\\\shuel\\\\Documents\\\\Workspace\\\\computer-vision\\\\computer-vision-meganha\\\\007-feature-extraction\\\\images\\\\Captcha_cut\\\\captcha_pt_2.png', 'C:\\\\Users\\\\shuel\\\\Documents\\\\Workspace\\\\computer-vision\\\\computer-vision-meganha\\\\007-feature-extraction\\\\images\\\\Captcha_cut\\\\captcha_pt_3.png', 'C:\\\\Users\\\\shuel\\\\Documents\\\\Workspace\\\\computer-vision\\\\computer-vision-meganha\\\\007-feature-extraction\\\\images\\\\Captcha_cut\\\\captcha_pt_4.png']\n"
     ]
    }
   ],
   "source": [
    "# Lendo todos os png existentes na pasta Repositorio captchas Cut\n",
    "\n",
    "# path_repositorio_captcha_cut = path + r'\\Captcha_cut'\n",
    "# filelist_captcha_cut = [f for f in os.listdir(path_repositorio_captcha_cut) if f.endswith(\"*.png\")]\n",
    "\n",
    "path_repositorio_captcha_cut = path + r'\\Captcha_cut'\n",
    "filelist_captcha_cut = glob.glob(path_repositorio_captcha_cut + \"\\*.png\")\n",
    "print(filelist_captcha_cut)\n"
   ]
  },
  {
   "cell_type": "code",
   "execution_count": 4,
   "metadata": {},
   "outputs": [],
   "source": [
    "# Deletar os arquivos .png da pasta captchas cut\n",
    "for f in filelist_captcha_cut:\n",
    "    os.remove(os.path.join(path_repositorio_captcha_cut, f))"
   ]
  },
  {
   "cell_type": "code",
   "execution_count": 5,
   "metadata": {},
   "outputs": [
    {
     "name": "stdout",
     "output_type": "stream",
     "text": [
      "['C:\\\\Users\\\\shuel\\\\Documents\\\\Workspace\\\\computer-vision\\\\computer-vision-meganha\\\\007-feature-extraction\\\\images\\\\templates\\\\frame1000.png', 'C:\\\\Users\\\\shuel\\\\Documents\\\\Workspace\\\\computer-vision\\\\computer-vision-meganha\\\\007-feature-extraction\\\\images\\\\templates\\\\frame152.png', 'C:\\\\Users\\\\shuel\\\\Documents\\\\Workspace\\\\computer-vision\\\\computer-vision-meganha\\\\007-feature-extraction\\\\images\\\\templates\\\\frame214.png', 'C:\\\\Users\\\\shuel\\\\Documents\\\\Workspace\\\\computer-vision\\\\computer-vision-meganha\\\\007-feature-extraction\\\\images\\\\templates\\\\frame244.png', 'C:\\\\Users\\\\shuel\\\\Documents\\\\Workspace\\\\computer-vision\\\\computer-vision-meganha\\\\007-feature-extraction\\\\images\\\\templates\\\\frame28.png', 'C:\\\\Users\\\\shuel\\\\Documents\\\\Workspace\\\\computer-vision\\\\computer-vision-meganha\\\\007-feature-extraction\\\\images\\\\templates\\\\frame31.png', 'C:\\\\Users\\\\shuel\\\\Documents\\\\Workspace\\\\computer-vision\\\\computer-vision-meganha\\\\007-feature-extraction\\\\images\\\\templates\\\\frame330.png', 'C:\\\\Users\\\\shuel\\\\Documents\\\\Workspace\\\\computer-vision\\\\computer-vision-meganha\\\\007-feature-extraction\\\\images\\\\templates\\\\frame331.png', 'C:\\\\Users\\\\shuel\\\\Documents\\\\Workspace\\\\computer-vision\\\\computer-vision-meganha\\\\007-feature-extraction\\\\images\\\\templates\\\\frame351.png', 'C:\\\\Users\\\\shuel\\\\Documents\\\\Workspace\\\\computer-vision\\\\computer-vision-meganha\\\\007-feature-extraction\\\\images\\\\templates\\\\frame374.png', 'C:\\\\Users\\\\shuel\\\\Documents\\\\Workspace\\\\computer-vision\\\\computer-vision-meganha\\\\007-feature-extraction\\\\images\\\\templates\\\\frame381.png', 'C:\\\\Users\\\\shuel\\\\Documents\\\\Workspace\\\\computer-vision\\\\computer-vision-meganha\\\\007-feature-extraction\\\\images\\\\templates\\\\frame383.png', 'C:\\\\Users\\\\shuel\\\\Documents\\\\Workspace\\\\computer-vision\\\\computer-vision-meganha\\\\007-feature-extraction\\\\images\\\\templates\\\\frame39.png', 'C:\\\\Users\\\\shuel\\\\Documents\\\\Workspace\\\\computer-vision\\\\computer-vision-meganha\\\\007-feature-extraction\\\\images\\\\templates\\\\frame398.png', 'C:\\\\Users\\\\shuel\\\\Documents\\\\Workspace\\\\computer-vision\\\\computer-vision-meganha\\\\007-feature-extraction\\\\images\\\\templates\\\\frame422.png', 'C:\\\\Users\\\\shuel\\\\Documents\\\\Workspace\\\\computer-vision\\\\computer-vision-meganha\\\\007-feature-extraction\\\\images\\\\templates\\\\frame429.png', 'C:\\\\Users\\\\shuel\\\\Documents\\\\Workspace\\\\computer-vision\\\\computer-vision-meganha\\\\007-feature-extraction\\\\images\\\\templates\\\\frame43.png', 'C:\\\\Users\\\\shuel\\\\Documents\\\\Workspace\\\\computer-vision\\\\computer-vision-meganha\\\\007-feature-extraction\\\\images\\\\templates\\\\frame441.png', 'C:\\\\Users\\\\shuel\\\\Documents\\\\Workspace\\\\computer-vision\\\\computer-vision-meganha\\\\007-feature-extraction\\\\images\\\\templates\\\\frame512.png', 'C:\\\\Users\\\\shuel\\\\Documents\\\\Workspace\\\\computer-vision\\\\computer-vision-meganha\\\\007-feature-extraction\\\\images\\\\templates\\\\frame53.png', 'C:\\\\Users\\\\shuel\\\\Documents\\\\Workspace\\\\computer-vision\\\\computer-vision-meganha\\\\007-feature-extraction\\\\images\\\\templates\\\\frame54.png', 'C:\\\\Users\\\\shuel\\\\Documents\\\\Workspace\\\\computer-vision\\\\computer-vision-meganha\\\\007-feature-extraction\\\\images\\\\templates\\\\frame541.png', 'C:\\\\Users\\\\shuel\\\\Documents\\\\Workspace\\\\computer-vision\\\\computer-vision-meganha\\\\007-feature-extraction\\\\images\\\\templates\\\\frame551.png', 'C:\\\\Users\\\\shuel\\\\Documents\\\\Workspace\\\\computer-vision\\\\computer-vision-meganha\\\\007-feature-extraction\\\\images\\\\templates\\\\frame555.png', 'C:\\\\Users\\\\shuel\\\\Documents\\\\Workspace\\\\computer-vision\\\\computer-vision-meganha\\\\007-feature-extraction\\\\images\\\\templates\\\\frame569.png', 'C:\\\\Users\\\\shuel\\\\Documents\\\\Workspace\\\\computer-vision\\\\computer-vision-meganha\\\\007-feature-extraction\\\\images\\\\templates\\\\frame585.png', 'C:\\\\Users\\\\shuel\\\\Documents\\\\Workspace\\\\computer-vision\\\\computer-vision-meganha\\\\007-feature-extraction\\\\images\\\\templates\\\\frame605.png', 'C:\\\\Users\\\\shuel\\\\Documents\\\\Workspace\\\\computer-vision\\\\computer-vision-meganha\\\\007-feature-extraction\\\\images\\\\templates\\\\frame617.png', 'C:\\\\Users\\\\shuel\\\\Documents\\\\Workspace\\\\computer-vision\\\\computer-vision-meganha\\\\007-feature-extraction\\\\images\\\\templates\\\\frame640.png', 'C:\\\\Users\\\\shuel\\\\Documents\\\\Workspace\\\\computer-vision\\\\computer-vision-meganha\\\\007-feature-extraction\\\\images\\\\templates\\\\frame645.png', 'C:\\\\Users\\\\shuel\\\\Documents\\\\Workspace\\\\computer-vision\\\\computer-vision-meganha\\\\007-feature-extraction\\\\images\\\\templates\\\\frame693.png', 'C:\\\\Users\\\\shuel\\\\Documents\\\\Workspace\\\\computer-vision\\\\computer-vision-meganha\\\\007-feature-extraction\\\\images\\\\templates\\\\frame697.png', 'C:\\\\Users\\\\shuel\\\\Documents\\\\Workspace\\\\computer-vision\\\\computer-vision-meganha\\\\007-feature-extraction\\\\images\\\\templates\\\\frame705.png', 'C:\\\\Users\\\\shuel\\\\Documents\\\\Workspace\\\\computer-vision\\\\computer-vision-meganha\\\\007-feature-extraction\\\\images\\\\templates\\\\frame721.png', 'C:\\\\Users\\\\shuel\\\\Documents\\\\Workspace\\\\computer-vision\\\\computer-vision-meganha\\\\007-feature-extraction\\\\images\\\\templates\\\\frame742.png', 'C:\\\\Users\\\\shuel\\\\Documents\\\\Workspace\\\\computer-vision\\\\computer-vision-meganha\\\\007-feature-extraction\\\\images\\\\templates\\\\frame760.png', 'C:\\\\Users\\\\shuel\\\\Documents\\\\Workspace\\\\computer-vision\\\\computer-vision-meganha\\\\007-feature-extraction\\\\images\\\\templates\\\\frame771.png', 'C:\\\\Users\\\\shuel\\\\Documents\\\\Workspace\\\\computer-vision\\\\computer-vision-meganha\\\\007-feature-extraction\\\\images\\\\templates\\\\frame814.png', 'C:\\\\Users\\\\shuel\\\\Documents\\\\Workspace\\\\computer-vision\\\\computer-vision-meganha\\\\007-feature-extraction\\\\images\\\\templates\\\\frame825.png', 'C:\\\\Users\\\\shuel\\\\Documents\\\\Workspace\\\\computer-vision\\\\computer-vision-meganha\\\\007-feature-extraction\\\\images\\\\templates\\\\frame828.png', 'C:\\\\Users\\\\shuel\\\\Documents\\\\Workspace\\\\computer-vision\\\\computer-vision-meganha\\\\007-feature-extraction\\\\images\\\\templates\\\\frame837.png', 'C:\\\\Users\\\\shuel\\\\Documents\\\\Workspace\\\\computer-vision\\\\computer-vision-meganha\\\\007-feature-extraction\\\\images\\\\templates\\\\frame850.png', 'C:\\\\Users\\\\shuel\\\\Documents\\\\Workspace\\\\computer-vision\\\\computer-vision-meganha\\\\007-feature-extraction\\\\images\\\\templates\\\\frame862.png', 'C:\\\\Users\\\\shuel\\\\Documents\\\\Workspace\\\\computer-vision\\\\computer-vision-meganha\\\\007-feature-extraction\\\\images\\\\templates\\\\frame872.png', 'C:\\\\Users\\\\shuel\\\\Documents\\\\Workspace\\\\computer-vision\\\\computer-vision-meganha\\\\007-feature-extraction\\\\images\\\\templates\\\\frame929.png', 'C:\\\\Users\\\\shuel\\\\Documents\\\\Workspace\\\\computer-vision\\\\computer-vision-meganha\\\\007-feature-extraction\\\\images\\\\templates\\\\frame940.png', 'C:\\\\Users\\\\shuel\\\\Documents\\\\Workspace\\\\computer-vision\\\\computer-vision-meganha\\\\007-feature-extraction\\\\images\\\\templates\\\\frame944.png', 'C:\\\\Users\\\\shuel\\\\Documents\\\\Workspace\\\\computer-vision\\\\computer-vision-meganha\\\\007-feature-extraction\\\\images\\\\templates\\\\frame949.png', 'C:\\\\Users\\\\shuel\\\\Documents\\\\Workspace\\\\computer-vision\\\\computer-vision-meganha\\\\007-feature-extraction\\\\images\\\\templates\\\\frame955.png', 'C:\\\\Users\\\\shuel\\\\Documents\\\\Workspace\\\\computer-vision\\\\computer-vision-meganha\\\\007-feature-extraction\\\\images\\\\templates\\\\frame978.png']\n"
     ]
    }
   ],
   "source": [
    "# Lendo todos os png existentes na pasta templates captchas\n",
    "\n",
    "path_repositorio_captcha = path + r'\\templates'\n",
    "filelist_captcha = glob.glob(path_repositorio_captcha + \"\\*.png\")\n",
    "print(filelist_captcha)\n",
    "\n"
   ]
  },
  {
   "cell_type": "code",
   "execution_count": 6,
   "metadata": {},
   "outputs": [
    {
     "name": "stdout",
     "output_type": "stream",
     "text": [
      "C:\\Users\\shuel\\Documents\\Workspace\\computer-vision\\computer-vision-meganha\\007-feature-extraction\\images\\templates\n"
     ]
    },
    {
     "data": {
      "text/plain": [
       "['frame1000.png',\n",
       " 'frame152.png',\n",
       " 'frame214.png',\n",
       " 'frame244.png',\n",
       " 'frame28.png',\n",
       " 'frame31.png',\n",
       " 'frame330.png',\n",
       " 'frame331.png',\n",
       " 'frame351.png',\n",
       " 'frame374.png',\n",
       " 'frame381.png',\n",
       " 'frame383.png',\n",
       " 'frame39.png',\n",
       " 'frame398.png',\n",
       " 'frame422.png',\n",
       " 'frame429.png',\n",
       " 'frame43.png',\n",
       " 'frame441.png',\n",
       " 'frame512.png',\n",
       " 'frame53.png',\n",
       " 'frame54.png',\n",
       " 'frame541.png',\n",
       " 'frame551.png',\n",
       " 'frame555.png',\n",
       " 'frame569.png',\n",
       " 'frame585.png',\n",
       " 'frame605.png',\n",
       " 'frame617.png',\n",
       " 'frame640.png',\n",
       " 'frame645.png',\n",
       " 'frame693.png',\n",
       " 'frame697.png',\n",
       " 'frame705.png',\n",
       " 'frame721.png',\n",
       " 'frame742.png',\n",
       " 'frame760.png',\n",
       " 'frame771.png',\n",
       " 'frame814.png',\n",
       " 'frame825.png',\n",
       " 'frame828.png',\n",
       " 'frame837.png',\n",
       " 'frame850.png',\n",
       " 'frame862.png',\n",
       " 'frame872.png',\n",
       " 'frame929.png',\n",
       " 'frame940.png',\n",
       " 'frame944.png',\n",
       " 'frame949.png',\n",
       " 'frame955.png',\n",
       " 'frame978.png']"
      ]
     },
     "execution_count": 6,
     "metadata": {},
     "output_type": "execute_result"
    }
   ],
   "source": [
    "print(path_repositorio_captcha)\n",
    "os.listdir(path_repositorio_captcha)"
   ]
  },
  {
   "cell_type": "code",
   "execution_count": 7,
   "metadata": {},
   "outputs": [],
   "source": [
    "# Pegar o captcha\n",
    "captcha_random = random.choice(filelist_captcha)\n",
    "main_image = cv2.imread(captcha_random)"
   ]
  },
  {
   "cell_type": "code",
   "execution_count": 8,
   "metadata": {},
   "outputs": [],
   "source": [
    "# Imagem no espaco HSV\n",
    "hsv = cv2.cvtColor(main_image, cv2.COLOR_BGR2HSV)\n",
    "\n",
    "# Limites superior e inferior\n",
    "lim_inf = np.array([15, 0 ,0])\n",
    "lim_sup = np.array([103, 255, 255])\n",
    "\n",
    "color_mask = cv2.inRange(hsv, lim_inf, lim_sup)"
   ]
  },
  {
   "cell_type": "code",
   "execution_count": 9,
   "metadata": {},
   "outputs": [],
   "source": [
    "# Filtro Mediano\n",
    "img_mediano = cv2.medianBlur(color_mask, 3)"
   ]
  },
  {
   "cell_type": "code",
   "execution_count": 10,
   "metadata": {},
   "outputs": [],
   "source": [
    "# Filtro Bilateral\n",
    "img_bilateral = cv2.bilateralFilter(img_mediano, 9, 75, 75)"
   ]
  },
  {
   "cell_type": "code",
   "execution_count": 11,
   "metadata": {},
   "outputs": [],
   "source": [
    "# Img Erodida\n",
    "elementoEstruturante = cv2.getStructuringElement(cv2.MORPH_ELLIPSE, (3,3))\n",
    "img_erode = cv2.erode(img_bilateral, elementoEstruturante, iterations=1)"
   ]
  },
  {
   "cell_type": "code",
   "execution_count": 12,
   "metadata": {},
   "outputs": [],
   "source": [
    "# Threshold\n",
    "img_th = cv2.adaptiveThreshold(img_erode, 255, cv2.ADAPTIVE_THRESH_MEAN_C, cv2.THRESH_BINARY, 11, 1)"
   ]
  },
  {
   "cell_type": "code",
   "execution_count": 13,
   "metadata": {},
   "outputs": [],
   "source": [
    "# Dividir o Captcha em 5 e salvar\n",
    "img_th1 = img_th[0:71, 0:79]\n",
    "img_th2 = img_th[0:71, 80:159]\n",
    "img_th3 = img_th[0:71, 160:238]\n",
    "img_th4 = img_th[0:71, 239:317]\n",
    "img_th5 = img_th[0:71, 318:]"
   ]
  },
  {
   "cell_type": "code",
   "execution_count": 14,
   "metadata": {},
   "outputs": [
    {
     "data": {
      "text/plain": [
       "True"
      ]
     },
     "execution_count": 14,
     "metadata": {},
     "output_type": "execute_result"
    }
   ],
   "source": [
    "cv2.imwrite(path + f'\\Captcha_cut\\captcha_pt_0.png', img_th1)\n",
    "cv2.imwrite(path + f'\\Captcha_cut\\captcha_pt_1.png', img_th2)\n",
    "cv2.imwrite(path + f'\\Captcha_cut\\captcha_pt_2.png', img_th3)\n",
    "cv2.imwrite(path + f'\\Captcha_cut\\captcha_pt_3.png', img_th4)\n",
    "cv2.imwrite(path + f'\\Captcha_cut\\captcha_pt_4.png', img_th5)"
   ]
  },
  {
   "cell_type": "code",
   "execution_count": 15,
   "metadata": {},
   "outputs": [
    {
     "name": "stdout",
     "output_type": "stream",
     "text": [
      "['C:\\\\Users\\\\shuel\\\\Documents\\\\Workspace\\\\computer-vision\\\\computer-vision-meganha\\\\007-feature-extraction\\\\images\\\\Captcha_cut\\\\captcha_pt_0.png', 'C:\\\\Users\\\\shuel\\\\Documents\\\\Workspace\\\\computer-vision\\\\computer-vision-meganha\\\\007-feature-extraction\\\\images\\\\Captcha_cut\\\\captcha_pt_1.png', 'C:\\\\Users\\\\shuel\\\\Documents\\\\Workspace\\\\computer-vision\\\\computer-vision-meganha\\\\007-feature-extraction\\\\images\\\\Captcha_cut\\\\captcha_pt_2.png', 'C:\\\\Users\\\\shuel\\\\Documents\\\\Workspace\\\\computer-vision\\\\computer-vision-meganha\\\\007-feature-extraction\\\\images\\\\Captcha_cut\\\\captcha_pt_3.png', 'C:\\\\Users\\\\shuel\\\\Documents\\\\Workspace\\\\computer-vision\\\\computer-vision-meganha\\\\007-feature-extraction\\\\images\\\\Captcha_cut\\\\captcha_pt_4.png']\n"
     ]
    }
   ],
   "source": [
    "# Lendo todos os png existes na pas Repo captchas Cut\n",
    "path_repositorio_captcha_cut = path + r'\\Captcha_cut'\n",
    "filelist_captcha_cut = glob.glob(path_repositorio_captcha_cut + \"\\*.png\")\n",
    "print(filelist_captcha_cut)"
   ]
  },
  {
   "cell_type": "code",
   "execution_count": 16,
   "metadata": {},
   "outputs": [
    {
     "name": "stdout",
     "output_type": "stream",
     "text": [
      "['C:\\\\Users\\\\shuel\\\\Documents\\\\Workspace\\\\computer-vision\\\\computer-vision-meganha\\\\007-feature-extraction\\\\images\\\\template_th_bk\\\\1.png', 'C:\\\\Users\\\\shuel\\\\Documents\\\\Workspace\\\\computer-vision\\\\computer-vision-meganha\\\\007-feature-extraction\\\\images\\\\template_th_bk\\\\2.png', 'C:\\\\Users\\\\shuel\\\\Documents\\\\Workspace\\\\computer-vision\\\\computer-vision-meganha\\\\007-feature-extraction\\\\images\\\\template_th_bk\\\\3.png', 'C:\\\\Users\\\\shuel\\\\Documents\\\\Workspace\\\\computer-vision\\\\computer-vision-meganha\\\\007-feature-extraction\\\\images\\\\template_th_bk\\\\4.png', 'C:\\\\Users\\\\shuel\\\\Documents\\\\Workspace\\\\computer-vision\\\\computer-vision-meganha\\\\007-feature-extraction\\\\images\\\\template_th_bk\\\\5.png', 'C:\\\\Users\\\\shuel\\\\Documents\\\\Workspace\\\\computer-vision\\\\computer-vision-meganha\\\\007-feature-extraction\\\\images\\\\template_th_bk\\\\6.png', 'C:\\\\Users\\\\shuel\\\\Documents\\\\Workspace\\\\computer-vision\\\\computer-vision-meganha\\\\007-feature-extraction\\\\images\\\\template_th_bk\\\\7.png', 'C:\\\\Users\\\\shuel\\\\Documents\\\\Workspace\\\\computer-vision\\\\computer-vision-meganha\\\\007-feature-extraction\\\\images\\\\template_th_bk\\\\8.png', 'C:\\\\Users\\\\shuel\\\\Documents\\\\Workspace\\\\computer-vision\\\\computer-vision-meganha\\\\007-feature-extraction\\\\images\\\\template_th_bk\\\\9.png', 'C:\\\\Users\\\\shuel\\\\Documents\\\\Workspace\\\\computer-vision\\\\computer-vision-meganha\\\\007-feature-extraction\\\\images\\\\template_th_bk\\\\A.png', 'C:\\\\Users\\\\shuel\\\\Documents\\\\Workspace\\\\computer-vision\\\\computer-vision-meganha\\\\007-feature-extraction\\\\images\\\\template_th_bk\\\\B.png', 'C:\\\\Users\\\\shuel\\\\Documents\\\\Workspace\\\\computer-vision\\\\computer-vision-meganha\\\\007-feature-extraction\\\\images\\\\template_th_bk\\\\C-Dilha.png', 'C:\\\\Users\\\\shuel\\\\Documents\\\\Workspace\\\\computer-vision\\\\computer-vision-meganha\\\\007-feature-extraction\\\\images\\\\template_th_bk\\\\C.png', 'C:\\\\Users\\\\shuel\\\\Documents\\\\Workspace\\\\computer-vision\\\\computer-vision-meganha\\\\007-feature-extraction\\\\images\\\\template_th_bk\\\\D.png', 'C:\\\\Users\\\\shuel\\\\Documents\\\\Workspace\\\\computer-vision\\\\computer-vision-meganha\\\\007-feature-extraction\\\\images\\\\template_th_bk\\\\E.png', 'C:\\\\Users\\\\shuel\\\\Documents\\\\Workspace\\\\computer-vision\\\\computer-vision-meganha\\\\007-feature-extraction\\\\images\\\\template_th_bk\\\\F.png', 'C:\\\\Users\\\\shuel\\\\Documents\\\\Workspace\\\\computer-vision\\\\computer-vision-meganha\\\\007-feature-extraction\\\\images\\\\template_th_bk\\\\G.png', 'C:\\\\Users\\\\shuel\\\\Documents\\\\Workspace\\\\computer-vision\\\\computer-vision-meganha\\\\007-feature-extraction\\\\images\\\\template_th_bk\\\\H.png', 'C:\\\\Users\\\\shuel\\\\Documents\\\\Workspace\\\\computer-vision\\\\computer-vision-meganha\\\\007-feature-extraction\\\\images\\\\template_th_bk\\\\I.png', 'C:\\\\Users\\\\shuel\\\\Documents\\\\Workspace\\\\computer-vision\\\\computer-vision-meganha\\\\007-feature-extraction\\\\images\\\\template_th_bk\\\\J.png', 'C:\\\\Users\\\\shuel\\\\Documents\\\\Workspace\\\\computer-vision\\\\computer-vision-meganha\\\\007-feature-extraction\\\\images\\\\template_th_bk\\\\K.png', 'C:\\\\Users\\\\shuel\\\\Documents\\\\Workspace\\\\computer-vision\\\\computer-vision-meganha\\\\007-feature-extraction\\\\images\\\\template_th_bk\\\\L.png', 'C:\\\\Users\\\\shuel\\\\Documents\\\\Workspace\\\\computer-vision\\\\computer-vision-meganha\\\\007-feature-extraction\\\\images\\\\template_th_bk\\\\M.png', 'C:\\\\Users\\\\shuel\\\\Documents\\\\Workspace\\\\computer-vision\\\\computer-vision-meganha\\\\007-feature-extraction\\\\images\\\\template_th_bk\\\\N.png', 'C:\\\\Users\\\\shuel\\\\Documents\\\\Workspace\\\\computer-vision\\\\computer-vision-meganha\\\\007-feature-extraction\\\\images\\\\template_th_bk\\\\O.png', 'C:\\\\Users\\\\shuel\\\\Documents\\\\Workspace\\\\computer-vision\\\\computer-vision-meganha\\\\007-feature-extraction\\\\images\\\\template_th_bk\\\\P.png', 'C:\\\\Users\\\\shuel\\\\Documents\\\\Workspace\\\\computer-vision\\\\computer-vision-meganha\\\\007-feature-extraction\\\\images\\\\template_th_bk\\\\Q.png', 'C:\\\\Users\\\\shuel\\\\Documents\\\\Workspace\\\\computer-vision\\\\computer-vision-meganha\\\\007-feature-extraction\\\\images\\\\template_th_bk\\\\R.png', 'C:\\\\Users\\\\shuel\\\\Documents\\\\Workspace\\\\computer-vision\\\\computer-vision-meganha\\\\007-feature-extraction\\\\images\\\\template_th_bk\\\\S.png', 'C:\\\\Users\\\\shuel\\\\Documents\\\\Workspace\\\\computer-vision\\\\computer-vision-meganha\\\\007-feature-extraction\\\\images\\\\template_th_bk\\\\T.png', 'C:\\\\Users\\\\shuel\\\\Documents\\\\Workspace\\\\computer-vision\\\\computer-vision-meganha\\\\007-feature-extraction\\\\images\\\\template_th_bk\\\\U.png', 'C:\\\\Users\\\\shuel\\\\Documents\\\\Workspace\\\\computer-vision\\\\computer-vision-meganha\\\\007-feature-extraction\\\\images\\\\template_th_bk\\\\V.png', 'C:\\\\Users\\\\shuel\\\\Documents\\\\Workspace\\\\computer-vision\\\\computer-vision-meganha\\\\007-feature-extraction\\\\images\\\\template_th_bk\\\\W.png', 'C:\\\\Users\\\\shuel\\\\Documents\\\\Workspace\\\\computer-vision\\\\computer-vision-meganha\\\\007-feature-extraction\\\\images\\\\template_th_bk\\\\X.png', 'C:\\\\Users\\\\shuel\\\\Documents\\\\Workspace\\\\computer-vision\\\\computer-vision-meganha\\\\007-feature-extraction\\\\images\\\\template_th_bk\\\\Y.png', 'C:\\\\Users\\\\shuel\\\\Documents\\\\Workspace\\\\computer-vision\\\\computer-vision-meganha\\\\007-feature-extraction\\\\images\\\\template_th_bk\\\\Z.png']\n"
     ]
    }
   ],
   "source": [
    "# Lendo todos os png existentes na pasta templates\n",
    "\n",
    "path_repositorio = path + r'\\template_th_bk'\n",
    "filelist = glob.glob(path_repositorio + \"\\*.png\")\n",
    "print(filelist)"
   ]
  },
  {
   "cell_type": "code",
   "execution_count": 17,
   "metadata": {},
   "outputs": [
    {
     "name": "stdout",
     "output_type": "stream",
     "text": [
      "O valor de correspondecia e: 0.4421255886554718\n",
      "O valor de correspondecia e: 0.6187844276428223\n",
      "O valor de correspondecia e: 0.7204555869102478\n",
      "O valor de correspondecia e: 0.5816056728363037\n",
      "O valor de correspondecia e: 0.7102839946746826\n",
      "O valor de correspondecia e: 0.804014265537262\n",
      "O valor de correspondecia e: 0.5179904699325562\n",
      "O valor de correspondecia e: 0.7990710139274597\n",
      "O valor de correspondecia e: 0.770590603351593\n",
      "O valor de correspondecia e: 0.6646583676338196\n",
      "O valor de correspondecia e: 0.9793152213096619\n",
      "O valor de correspondecia e: 0.6786394715309143\n",
      "O valor de correspondecia e: 0.7569126486778259\n",
      "O valor de correspondecia e: 0.7436687350273132\n",
      "O valor de correspondecia e: 0.7751541137695312\n",
      "O valor de correspondecia e: 0.5853567719459534\n",
      "O valor de correspondecia e: 0.7708638906478882\n",
      "O valor de correspondecia e: 0.7158341407775879\n",
      "O valor de correspondecia e: 0.3404548466205597\n",
      "O valor de correspondecia e: 0.5967352986335754\n",
      "O valor de correspondecia e: 0.6911354660987854\n",
      "O valor de correspondecia e: 0.5231013894081116\n",
      "O valor de correspondecia e: 0.6651830077171326\n",
      "O valor de correspondecia e: 0.7128301858901978\n",
      "O valor de correspondecia e: 0.7453660368919373\n",
      "O valor de correspondecia e: 0.7048763632774353\n",
      "O valor de correspondecia e: 0.722353994846344\n",
      "O valor de correspondecia e: 0.8171536326408386\n",
      "O valor de correspondecia e: 0.8159061074256897\n",
      "O valor de correspondecia e: 0.4582383632659912\n",
      "O valor de correspondecia e: 0.747965931892395\n",
      "O valor de correspondecia e: 0.5838630199432373\n",
      "O valor de correspondecia e: 0.6253331303596497\n",
      "O valor de correspondecia e: 0.6204609274864197\n",
      "O valor de correspondecia e: 0.4738423228263855\n",
      "O valor de correspondecia e: 0.6307872533798218\n",
      "O valor de correspondecia e: 0.2739909887313843\n",
      "O valor de correspondecia e: 0.5592741370201111\n",
      "O valor de correspondecia e: 0.642631471157074\n",
      "O valor de correspondecia e: 0.38081470131874084\n",
      "O valor de correspondecia e: 0.5795628428459167\n",
      "O valor de correspondecia e: 0.6402533054351807\n",
      "O valor de correspondecia e: 0.4649586081504822\n",
      "O valor de correspondecia e: 0.6353439092636108\n",
      "O valor de correspondecia e: 0.6574846506118774\n",
      "O valor de correspondecia e: 0.443940132856369\n",
      "O valor de correspondecia e: 0.7530630230903625\n",
      "O valor de correspondecia e: 0.705108642578125\n",
      "O valor de correspondecia e: 0.7648423910140991\n",
      "O valor de correspondecia e: 0.7868250608444214\n",
      "O valor de correspondecia e: 0.5969114899635315\n",
      "O valor de correspondecia e: 0.4256695806980133\n",
      "O valor de correspondecia e: 0.8796171545982361\n",
      "O valor de correspondecia e: 0.63614821434021\n",
      "O valor de correspondecia e: 0.2020300179719925\n",
      "O valor de correspondecia e: 0.4960217773914337\n",
      "O valor de correspondecia e: 0.49245065450668335\n",
      "O valor de correspondecia e: 0.41539543867111206\n",
      "O valor de correspondecia e: 0.6386128067970276\n",
      "O valor de correspondecia e: 0.6375644207000732\n",
      "O valor de correspondecia e: 0.8956494331359863\n",
      "O valor de correspondecia e: 0.6085354685783386\n",
      "O valor de correspondecia e: 0.8456836938858032\n",
      "O valor de correspondecia e: 0.6762926578521729\n",
      "O valor de correspondecia e: 0.7419185042381287\n",
      "O valor de correspondecia e: 0.3162876069545746\n",
      "O valor de correspondecia e: 0.7741065621376038\n",
      "O valor de correspondecia e: 0.4751235246658325\n",
      "O valor de correspondecia e: 0.5699601173400879\n",
      "O valor de correspondecia e: 0.3968498706817627\n",
      "O valor de correspondecia e: 0.33027514815330505\n",
      "O valor de correspondecia e: 0.46077433228492737\n",
      "O valor de correspondecia e: 0.36495453119277954\n",
      "O valor de correspondecia e: 0.5550782084465027\n",
      "O valor de correspondecia e: 0.5057432055473328\n",
      "O valor de correspondecia e: 0.43172919750213623\n",
      "O valor de correspondecia e: 0.7035495638847351\n",
      "O valor de correspondecia e: 0.680820643901825\n",
      "O valor de correspondecia e: 0.41170307993888855\n",
      "O valor de correspondecia e: 0.6485722661018372\n",
      "O valor de correspondecia e: 0.6244345307350159\n",
      "O valor de correspondecia e: 0.5155305862426758\n",
      "O valor de correspondecia e: 0.7732471823692322\n",
      "O valor de correspondecia e: 0.6023152470588684\n",
      "O valor de correspondecia e: 0.6471684575080872\n",
      "O valor de correspondecia e: 0.6665183901786804\n",
      "O valor de correspondecia e: 0.9818688035011292\n",
      "O valor de correspondecia e: 0.6913920044898987\n",
      "O valor de correspondecia e: 0.669650673866272\n",
      "O valor de correspondecia e: 0.5827467441558838\n",
      "O valor de correspondecia e: 0.4026019871234894\n",
      "O valor de correspondecia e: 0.4251546859741211\n",
      "O valor de correspondecia e: 0.6480851769447327\n",
      "O valor de correspondecia e: 0.6313518285751343\n",
      "O valor de correspondecia e: 0.5401995778083801\n",
      "O valor de correspondecia e: 0.5876564383506775\n",
      "O valor de correspondecia e: 0.6095603704452515\n",
      "O valor de correspondecia e: 0.702498197555542\n",
      "O valor de correspondecia e: 0.5815828442573547\n",
      "O valor de correspondecia e: 0.6900679469108582\n",
      "O valor de correspondecia e: 0.6824270486831665\n",
      "O valor de correspondecia e: 0.4367193579673767\n",
      "O valor de correspondecia e: 0.5788732171058655\n",
      "O valor de correspondecia e: 0.4702683389186859\n",
      "O valor de correspondecia e: 0.4733257293701172\n",
      "O valor de correspondecia e: 0.5645398497581482\n",
      "O valor de correspondecia e: 0.3739832043647766\n",
      "O valor de correspondecia e: 0.6928351521492004\n",
      "O valor de correspondecia e: 0.2940722405910492\n",
      "O valor de correspondecia e: 0.5600520372390747\n",
      "O valor de correspondecia e: 0.5854359865188599\n",
      "O valor de correspondecia e: 0.4772365391254425\n",
      "O valor de correspondecia e: 0.6055910587310791\n",
      "O valor de correspondecia e: 0.6435680389404297\n",
      "O valor de correspondecia e: 0.4523240625858307\n",
      "O valor de correspondecia e: 0.6650277972221375\n",
      "O valor de correspondecia e: 0.645449161529541\n",
      "O valor de correspondecia e: 0.6608869433403015\n",
      "O valor de correspondecia e: 0.8177517056465149\n",
      "O valor de correspondecia e: 0.6022424101829529\n",
      "O valor de correspondecia e: 0.673914909362793\n",
      "O valor de correspondecia e: 0.6802623867988586\n",
      "O valor de correspondecia e: 0.7290710806846619\n",
      "O valor de correspondecia e: 0.5847228765487671\n",
      "O valor de correspondecia e: 0.7201980948448181\n",
      "O valor de correspondecia e: 0.7696583271026611\n",
      "O valor de correspondecia e: 0.2688267230987549\n",
      "O valor de correspondecia e: 0.41813674569129944\n",
      "O valor de correspondecia e: 0.687629759311676\n",
      "O valor de correspondecia e: 0.40151792764663696\n",
      "O valor de correspondecia e: 0.6744354963302612\n",
      "O valor de correspondecia e: 0.7522075772285461\n",
      "O valor de correspondecia e: 0.6741816401481628\n",
      "O valor de correspondecia e: 0.7977484464645386\n",
      "O valor de correspondecia e: 0.6923566460609436\n",
      "O valor de correspondecia e: 0.9015867114067078\n",
      "O valor de correspondecia e: 0.6985306739807129\n",
      "O valor de correspondecia e: 0.355979323387146\n",
      "O valor de correspondecia e: 0.6873636841773987\n",
      "O valor de correspondecia e: 0.5358474254608154\n",
      "O valor de correspondecia e: 0.6204794645309448\n",
      "O valor de correspondecia e: 0.6464971303939819\n",
      "O valor de correspondecia e: 0.39795196056365967\n",
      "O valor de correspondecia e: 0.55662602186203\n",
      "O valor de correspondecia e: 0.28356286883354187\n",
      "O valor de correspondecia e: 0.5886163711547852\n",
      "O valor de correspondecia e: 0.622974157333374\n",
      "O valor de correspondecia e: 0.4246329069137573\n",
      "O valor de correspondecia e: 0.6223968863487244\n",
      "O valor de correspondecia e: 0.6724041700363159\n",
      "O valor de correspondecia e: 0.40627628564834595\n",
      "O valor de correspondecia e: 0.669333279132843\n",
      "O valor de correspondecia e: 0.6554874181747437\n",
      "O valor de correspondecia e: 0.5183186531066895\n",
      "O valor de correspondecia e: 0.756741464138031\n",
      "O valor de correspondecia e: 0.7087724208831787\n",
      "O valor de correspondecia e: 0.7639436721801758\n",
      "O valor de correspondecia e: 0.987704873085022\n",
      "O valor de correspondecia e: 0.6806918978691101\n",
      "O valor de correspondecia e: 0.5392659306526184\n",
      "O valor de correspondecia e: 0.7540901899337769\n",
      "O valor de correspondecia e: 0.5871049165725708\n",
      "O valor de correspondecia e: 0.3294528126716614\n",
      "O valor de correspondecia e: 0.44246089458465576\n",
      "O valor de correspondecia e: 0.5371665954589844\n",
      "O valor de correspondecia e: 0.549878716468811\n",
      "O valor de correspondecia e: 0.6344055533409119\n",
      "O valor de correspondecia e: 0.592494785785675\n",
      "O valor de correspondecia e: 0.8774719834327698\n",
      "O valor de correspondecia e: 0.700291097164154\n",
      "O valor de correspondecia e: 0.8037092089653015\n",
      "O valor de correspondecia e: 0.6322677731513977\n",
      "O valor de correspondecia e: 0.712085485458374\n",
      "O valor de correspondecia e: 0.31917983293533325\n",
      "O valor de correspondecia e: 0.687920868396759\n",
      "O valor de correspondecia e: 0.5287782549858093\n",
      "O valor de correspondecia e: 0.5542846322059631\n",
      "O valor de correspondecia e: 0.4829752743244171\n",
      "O valor de correspondecia e: 0.32325801253318787\n",
      "O valor de correspondecia e: 0.565321683883667\n",
      "[[0, {'C:\\\\Users\\\\shuel\\\\Documents\\\\Workspace\\\\computer-vision\\\\computer-vision-meganha\\\\007-feature-extraction\\\\images\\\\template_th_bk\\\\1.png': 0.4421255886554718}], [0, {'C:\\\\Users\\\\shuel\\\\Documents\\\\Workspace\\\\computer-vision\\\\computer-vision-meganha\\\\007-feature-extraction\\\\images\\\\template_th_bk\\\\2.png': 0.6187844276428223}], [0, {'C:\\\\Users\\\\shuel\\\\Documents\\\\Workspace\\\\computer-vision\\\\computer-vision-meganha\\\\007-feature-extraction\\\\images\\\\template_th_bk\\\\3.png': 0.7204555869102478}], [0, {'C:\\\\Users\\\\shuel\\\\Documents\\\\Workspace\\\\computer-vision\\\\computer-vision-meganha\\\\007-feature-extraction\\\\images\\\\template_th_bk\\\\4.png': 0.5816056728363037}], [0, {'C:\\\\Users\\\\shuel\\\\Documents\\\\Workspace\\\\computer-vision\\\\computer-vision-meganha\\\\007-feature-extraction\\\\images\\\\template_th_bk\\\\5.png': 0.7102839946746826}], [0, {'C:\\\\Users\\\\shuel\\\\Documents\\\\Workspace\\\\computer-vision\\\\computer-vision-meganha\\\\007-feature-extraction\\\\images\\\\template_th_bk\\\\6.png': 0.804014265537262}], [0, {'C:\\\\Users\\\\shuel\\\\Documents\\\\Workspace\\\\computer-vision\\\\computer-vision-meganha\\\\007-feature-extraction\\\\images\\\\template_th_bk\\\\7.png': 0.5179904699325562}], [0, {'C:\\\\Users\\\\shuel\\\\Documents\\\\Workspace\\\\computer-vision\\\\computer-vision-meganha\\\\007-feature-extraction\\\\images\\\\template_th_bk\\\\8.png': 0.7990710139274597}], [0, {'C:\\\\Users\\\\shuel\\\\Documents\\\\Workspace\\\\computer-vision\\\\computer-vision-meganha\\\\007-feature-extraction\\\\images\\\\template_th_bk\\\\9.png': 0.770590603351593}], [0, {'C:\\\\Users\\\\shuel\\\\Documents\\\\Workspace\\\\computer-vision\\\\computer-vision-meganha\\\\007-feature-extraction\\\\images\\\\template_th_bk\\\\A.png': 0.6646583676338196}], [0, {'C:\\\\Users\\\\shuel\\\\Documents\\\\Workspace\\\\computer-vision\\\\computer-vision-meganha\\\\007-feature-extraction\\\\images\\\\template_th_bk\\\\B.png': 0.9793152213096619}], [0, {'C:\\\\Users\\\\shuel\\\\Documents\\\\Workspace\\\\computer-vision\\\\computer-vision-meganha\\\\007-feature-extraction\\\\images\\\\template_th_bk\\\\C-Dilha.png': 0.6786394715309143}], [0, {'C:\\\\Users\\\\shuel\\\\Documents\\\\Workspace\\\\computer-vision\\\\computer-vision-meganha\\\\007-feature-extraction\\\\images\\\\template_th_bk\\\\C.png': 0.7569126486778259}], [0, {'C:\\\\Users\\\\shuel\\\\Documents\\\\Workspace\\\\computer-vision\\\\computer-vision-meganha\\\\007-feature-extraction\\\\images\\\\template_th_bk\\\\D.png': 0.7436687350273132}], [0, {'C:\\\\Users\\\\shuel\\\\Documents\\\\Workspace\\\\computer-vision\\\\computer-vision-meganha\\\\007-feature-extraction\\\\images\\\\template_th_bk\\\\E.png': 0.7751541137695312}], [0, {'C:\\\\Users\\\\shuel\\\\Documents\\\\Workspace\\\\computer-vision\\\\computer-vision-meganha\\\\007-feature-extraction\\\\images\\\\template_th_bk\\\\F.png': 0.5853567719459534}], [0, {'C:\\\\Users\\\\shuel\\\\Documents\\\\Workspace\\\\computer-vision\\\\computer-vision-meganha\\\\007-feature-extraction\\\\images\\\\template_th_bk\\\\G.png': 0.7708638906478882}], [0, {'C:\\\\Users\\\\shuel\\\\Documents\\\\Workspace\\\\computer-vision\\\\computer-vision-meganha\\\\007-feature-extraction\\\\images\\\\template_th_bk\\\\H.png': 0.7158341407775879}], [0, {'C:\\\\Users\\\\shuel\\\\Documents\\\\Workspace\\\\computer-vision\\\\computer-vision-meganha\\\\007-feature-extraction\\\\images\\\\template_th_bk\\\\I.png': 0.3404548466205597}], [0, {'C:\\\\Users\\\\shuel\\\\Documents\\\\Workspace\\\\computer-vision\\\\computer-vision-meganha\\\\007-feature-extraction\\\\images\\\\template_th_bk\\\\J.png': 0.5967352986335754}], [0, {'C:\\\\Users\\\\shuel\\\\Documents\\\\Workspace\\\\computer-vision\\\\computer-vision-meganha\\\\007-feature-extraction\\\\images\\\\template_th_bk\\\\K.png': 0.6911354660987854}], [0, {'C:\\\\Users\\\\shuel\\\\Documents\\\\Workspace\\\\computer-vision\\\\computer-vision-meganha\\\\007-feature-extraction\\\\images\\\\template_th_bk\\\\L.png': 0.5231013894081116}], [0, {'C:\\\\Users\\\\shuel\\\\Documents\\\\Workspace\\\\computer-vision\\\\computer-vision-meganha\\\\007-feature-extraction\\\\images\\\\template_th_bk\\\\M.png': 0.6651830077171326}], [0, {'C:\\\\Users\\\\shuel\\\\Documents\\\\Workspace\\\\computer-vision\\\\computer-vision-meganha\\\\007-feature-extraction\\\\images\\\\template_th_bk\\\\N.png': 0.7128301858901978}], [0, {'C:\\\\Users\\\\shuel\\\\Documents\\\\Workspace\\\\computer-vision\\\\computer-vision-meganha\\\\007-feature-extraction\\\\images\\\\template_th_bk\\\\O.png': 0.7453660368919373}], [0, {'C:\\\\Users\\\\shuel\\\\Documents\\\\Workspace\\\\computer-vision\\\\computer-vision-meganha\\\\007-feature-extraction\\\\images\\\\template_th_bk\\\\P.png': 0.7048763632774353}], [0, {'C:\\\\Users\\\\shuel\\\\Documents\\\\Workspace\\\\computer-vision\\\\computer-vision-meganha\\\\007-feature-extraction\\\\images\\\\template_th_bk\\\\Q.png': 0.722353994846344}], [0, {'C:\\\\Users\\\\shuel\\\\Documents\\\\Workspace\\\\computer-vision\\\\computer-vision-meganha\\\\007-feature-extraction\\\\images\\\\template_th_bk\\\\R.png': 0.8171536326408386}], [0, {'C:\\\\Users\\\\shuel\\\\Documents\\\\Workspace\\\\computer-vision\\\\computer-vision-meganha\\\\007-feature-extraction\\\\images\\\\template_th_bk\\\\S.png': 0.8159061074256897}], [0, {'C:\\\\Users\\\\shuel\\\\Documents\\\\Workspace\\\\computer-vision\\\\computer-vision-meganha\\\\007-feature-extraction\\\\images\\\\template_th_bk\\\\T.png': 0.4582383632659912}], [0, {'C:\\\\Users\\\\shuel\\\\Documents\\\\Workspace\\\\computer-vision\\\\computer-vision-meganha\\\\007-feature-extraction\\\\images\\\\template_th_bk\\\\U.png': 0.747965931892395}], [0, {'C:\\\\Users\\\\shuel\\\\Documents\\\\Workspace\\\\computer-vision\\\\computer-vision-meganha\\\\007-feature-extraction\\\\images\\\\template_th_bk\\\\V.png': 0.5838630199432373}], [0, {'C:\\\\Users\\\\shuel\\\\Documents\\\\Workspace\\\\computer-vision\\\\computer-vision-meganha\\\\007-feature-extraction\\\\images\\\\template_th_bk\\\\W.png': 0.6253331303596497}], [0, {'C:\\\\Users\\\\shuel\\\\Documents\\\\Workspace\\\\computer-vision\\\\computer-vision-meganha\\\\007-feature-extraction\\\\images\\\\template_th_bk\\\\X.png': 0.6204609274864197}], [0, {'C:\\\\Users\\\\shuel\\\\Documents\\\\Workspace\\\\computer-vision\\\\computer-vision-meganha\\\\007-feature-extraction\\\\images\\\\template_th_bk\\\\Y.png': 0.4738423228263855}], [0, {'C:\\\\Users\\\\shuel\\\\Documents\\\\Workspace\\\\computer-vision\\\\computer-vision-meganha\\\\007-feature-extraction\\\\images\\\\template_th_bk\\\\Z.png': 0.6307872533798218}], [1, {'C:\\\\Users\\\\shuel\\\\Documents\\\\Workspace\\\\computer-vision\\\\computer-vision-meganha\\\\007-feature-extraction\\\\images\\\\template_th_bk\\\\1.png': 0.2739909887313843}], [1, {'C:\\\\Users\\\\shuel\\\\Documents\\\\Workspace\\\\computer-vision\\\\computer-vision-meganha\\\\007-feature-extraction\\\\images\\\\template_th_bk\\\\2.png': 0.5592741370201111}], [1, {'C:\\\\Users\\\\shuel\\\\Documents\\\\Workspace\\\\computer-vision\\\\computer-vision-meganha\\\\007-feature-extraction\\\\images\\\\template_th_bk\\\\3.png': 0.642631471157074}], [1, {'C:\\\\Users\\\\shuel\\\\Documents\\\\Workspace\\\\computer-vision\\\\computer-vision-meganha\\\\007-feature-extraction\\\\images\\\\template_th_bk\\\\4.png': 0.38081470131874084}], [1, {'C:\\\\Users\\\\shuel\\\\Documents\\\\Workspace\\\\computer-vision\\\\computer-vision-meganha\\\\007-feature-extraction\\\\images\\\\template_th_bk\\\\5.png': 0.5795628428459167}], [1, {'C:\\\\Users\\\\shuel\\\\Documents\\\\Workspace\\\\computer-vision\\\\computer-vision-meganha\\\\007-feature-extraction\\\\images\\\\template_th_bk\\\\6.png': 0.6402533054351807}], [1, {'C:\\\\Users\\\\shuel\\\\Documents\\\\Workspace\\\\computer-vision\\\\computer-vision-meganha\\\\007-feature-extraction\\\\images\\\\template_th_bk\\\\7.png': 0.4649586081504822}], [1, {'C:\\\\Users\\\\shuel\\\\Documents\\\\Workspace\\\\computer-vision\\\\computer-vision-meganha\\\\007-feature-extraction\\\\images\\\\template_th_bk\\\\8.png': 0.6353439092636108}], [1, {'C:\\\\Users\\\\shuel\\\\Documents\\\\Workspace\\\\computer-vision\\\\computer-vision-meganha\\\\007-feature-extraction\\\\images\\\\template_th_bk\\\\9.png': 0.6574846506118774}], [1, {'C:\\\\Users\\\\shuel\\\\Documents\\\\Workspace\\\\computer-vision\\\\computer-vision-meganha\\\\007-feature-extraction\\\\images\\\\template_th_bk\\\\A.png': 0.443940132856369}], [1, {'C:\\\\Users\\\\shuel\\\\Documents\\\\Workspace\\\\computer-vision\\\\computer-vision-meganha\\\\007-feature-extraction\\\\images\\\\template_th_bk\\\\B.png': 0.7530630230903625}], [1, {'C:\\\\Users\\\\shuel\\\\Documents\\\\Workspace\\\\computer-vision\\\\computer-vision-meganha\\\\007-feature-extraction\\\\images\\\\template_th_bk\\\\C-Dilha.png': 0.705108642578125}], [1, {'C:\\\\Users\\\\shuel\\\\Documents\\\\Workspace\\\\computer-vision\\\\computer-vision-meganha\\\\007-feature-extraction\\\\images\\\\template_th_bk\\\\C.png': 0.7648423910140991}], [1, {'C:\\\\Users\\\\shuel\\\\Documents\\\\Workspace\\\\computer-vision\\\\computer-vision-meganha\\\\007-feature-extraction\\\\images\\\\template_th_bk\\\\D.png': 0.7868250608444214}], [1, {'C:\\\\Users\\\\shuel\\\\Documents\\\\Workspace\\\\computer-vision\\\\computer-vision-meganha\\\\007-feature-extraction\\\\images\\\\template_th_bk\\\\E.png': 0.5969114899635315}], [1, {'C:\\\\Users\\\\shuel\\\\Documents\\\\Workspace\\\\computer-vision\\\\computer-vision-meganha\\\\007-feature-extraction\\\\images\\\\template_th_bk\\\\F.png': 0.4256695806980133}], [1, {'C:\\\\Users\\\\shuel\\\\Documents\\\\Workspace\\\\computer-vision\\\\computer-vision-meganha\\\\007-feature-extraction\\\\images\\\\template_th_bk\\\\G.png': 0.8796171545982361}], [1, {'C:\\\\Users\\\\shuel\\\\Documents\\\\Workspace\\\\computer-vision\\\\computer-vision-meganha\\\\007-feature-extraction\\\\images\\\\template_th_bk\\\\H.png': 0.63614821434021}], [1, {'C:\\\\Users\\\\shuel\\\\Documents\\\\Workspace\\\\computer-vision\\\\computer-vision-meganha\\\\007-feature-extraction\\\\images\\\\template_th_bk\\\\I.png': 0.2020300179719925}], [1, {'C:\\\\Users\\\\shuel\\\\Documents\\\\Workspace\\\\computer-vision\\\\computer-vision-meganha\\\\007-feature-extraction\\\\images\\\\template_th_bk\\\\J.png': 0.4960217773914337}], [1, {'C:\\\\Users\\\\shuel\\\\Documents\\\\Workspace\\\\computer-vision\\\\computer-vision-meganha\\\\007-feature-extraction\\\\images\\\\template_th_bk\\\\K.png': 0.49245065450668335}], [1, {'C:\\\\Users\\\\shuel\\\\Documents\\\\Workspace\\\\computer-vision\\\\computer-vision-meganha\\\\007-feature-extraction\\\\images\\\\template_th_bk\\\\L.png': 0.41539543867111206}], [1, {'C:\\\\Users\\\\shuel\\\\Documents\\\\Workspace\\\\computer-vision\\\\computer-vision-meganha\\\\007-feature-extraction\\\\images\\\\template_th_bk\\\\M.png': 0.6386128067970276}], [1, {'C:\\\\Users\\\\shuel\\\\Documents\\\\Workspace\\\\computer-vision\\\\computer-vision-meganha\\\\007-feature-extraction\\\\images\\\\template_th_bk\\\\N.png': 0.6375644207000732}], [1, {'C:\\\\Users\\\\shuel\\\\Documents\\\\Workspace\\\\computer-vision\\\\computer-vision-meganha\\\\007-feature-extraction\\\\images\\\\template_th_bk\\\\O.png': 0.8956494331359863}], [1, {'C:\\\\Users\\\\shuel\\\\Documents\\\\Workspace\\\\computer-vision\\\\computer-vision-meganha\\\\007-feature-extraction\\\\images\\\\template_th_bk\\\\P.png': 0.6085354685783386}], [1, {'C:\\\\Users\\\\shuel\\\\Documents\\\\Workspace\\\\computer-vision\\\\computer-vision-meganha\\\\007-feature-extraction\\\\images\\\\template_th_bk\\\\Q.png': 0.8456836938858032}], [1, {'C:\\\\Users\\\\shuel\\\\Documents\\\\Workspace\\\\computer-vision\\\\computer-vision-meganha\\\\007-feature-extraction\\\\images\\\\template_th_bk\\\\R.png': 0.6762926578521729}], [1, {'C:\\\\Users\\\\shuel\\\\Documents\\\\Workspace\\\\computer-vision\\\\computer-vision-meganha\\\\007-feature-extraction\\\\images\\\\template_th_bk\\\\S.png': 0.7419185042381287}], [1, {'C:\\\\Users\\\\shuel\\\\Documents\\\\Workspace\\\\computer-vision\\\\computer-vision-meganha\\\\007-feature-extraction\\\\images\\\\template_th_bk\\\\T.png': 0.3162876069545746}], [1, {'C:\\\\Users\\\\shuel\\\\Documents\\\\Workspace\\\\computer-vision\\\\computer-vision-meganha\\\\007-feature-extraction\\\\images\\\\template_th_bk\\\\U.png': 0.7741065621376038}], [1, {'C:\\\\Users\\\\shuel\\\\Documents\\\\Workspace\\\\computer-vision\\\\computer-vision-meganha\\\\007-feature-extraction\\\\images\\\\template_th_bk\\\\V.png': 0.4751235246658325}], [1, {'C:\\\\Users\\\\shuel\\\\Documents\\\\Workspace\\\\computer-vision\\\\computer-vision-meganha\\\\007-feature-extraction\\\\images\\\\template_th_bk\\\\W.png': 0.5699601173400879}], [1, {'C:\\\\Users\\\\shuel\\\\Documents\\\\Workspace\\\\computer-vision\\\\computer-vision-meganha\\\\007-feature-extraction\\\\images\\\\template_th_bk\\\\X.png': 0.3968498706817627}], [1, {'C:\\\\Users\\\\shuel\\\\Documents\\\\Workspace\\\\computer-vision\\\\computer-vision-meganha\\\\007-feature-extraction\\\\images\\\\template_th_bk\\\\Y.png': 0.33027514815330505}], [1, {'C:\\\\Users\\\\shuel\\\\Documents\\\\Workspace\\\\computer-vision\\\\computer-vision-meganha\\\\007-feature-extraction\\\\images\\\\template_th_bk\\\\Z.png': 0.46077433228492737}], [2, {'C:\\\\Users\\\\shuel\\\\Documents\\\\Workspace\\\\computer-vision\\\\computer-vision-meganha\\\\007-feature-extraction\\\\images\\\\template_th_bk\\\\1.png': 0.36495453119277954}], [2, {'C:\\\\Users\\\\shuel\\\\Documents\\\\Workspace\\\\computer-vision\\\\computer-vision-meganha\\\\007-feature-extraction\\\\images\\\\template_th_bk\\\\2.png': 0.5550782084465027}], [2, {'C:\\\\Users\\\\shuel\\\\Documents\\\\Workspace\\\\computer-vision\\\\computer-vision-meganha\\\\007-feature-extraction\\\\images\\\\template_th_bk\\\\3.png': 0.5057432055473328}], [2, {'C:\\\\Users\\\\shuel\\\\Documents\\\\Workspace\\\\computer-vision\\\\computer-vision-meganha\\\\007-feature-extraction\\\\images\\\\template_th_bk\\\\4.png': 0.43172919750213623}], [2, {'C:\\\\Users\\\\shuel\\\\Documents\\\\Workspace\\\\computer-vision\\\\computer-vision-meganha\\\\007-feature-extraction\\\\images\\\\template_th_bk\\\\5.png': 0.7035495638847351}], [2, {'C:\\\\Users\\\\shuel\\\\Documents\\\\Workspace\\\\computer-vision\\\\computer-vision-meganha\\\\007-feature-extraction\\\\images\\\\template_th_bk\\\\6.png': 0.680820643901825}], [2, {'C:\\\\Users\\\\shuel\\\\Documents\\\\Workspace\\\\computer-vision\\\\computer-vision-meganha\\\\007-feature-extraction\\\\images\\\\template_th_bk\\\\7.png': 0.41170307993888855}], [2, {'C:\\\\Users\\\\shuel\\\\Documents\\\\Workspace\\\\computer-vision\\\\computer-vision-meganha\\\\007-feature-extraction\\\\images\\\\template_th_bk\\\\8.png': 0.6485722661018372}], [2, {'C:\\\\Users\\\\shuel\\\\Documents\\\\Workspace\\\\computer-vision\\\\computer-vision-meganha\\\\007-feature-extraction\\\\images\\\\template_th_bk\\\\9.png': 0.6244345307350159}], [2, {'C:\\\\Users\\\\shuel\\\\Documents\\\\Workspace\\\\computer-vision\\\\computer-vision-meganha\\\\007-feature-extraction\\\\images\\\\template_th_bk\\\\A.png': 0.5155305862426758}], [2, {'C:\\\\Users\\\\shuel\\\\Documents\\\\Workspace\\\\computer-vision\\\\computer-vision-meganha\\\\007-feature-extraction\\\\images\\\\template_th_bk\\\\B.png': 0.7732471823692322}], [2, {'C:\\\\Users\\\\shuel\\\\Documents\\\\Workspace\\\\computer-vision\\\\computer-vision-meganha\\\\007-feature-extraction\\\\images\\\\template_th_bk\\\\C-Dilha.png': 0.6023152470588684}], [2, {'C:\\\\Users\\\\shuel\\\\Documents\\\\Workspace\\\\computer-vision\\\\computer-vision-meganha\\\\007-feature-extraction\\\\images\\\\template_th_bk\\\\C.png': 0.6471684575080872}], [2, {'C:\\\\Users\\\\shuel\\\\Documents\\\\Workspace\\\\computer-vision\\\\computer-vision-meganha\\\\007-feature-extraction\\\\images\\\\template_th_bk\\\\D.png': 0.6665183901786804}], [2, {'C:\\\\Users\\\\shuel\\\\Documents\\\\Workspace\\\\computer-vision\\\\computer-vision-meganha\\\\007-feature-extraction\\\\images\\\\template_th_bk\\\\E.png': 0.9818688035011292}], [2, {'C:\\\\Users\\\\shuel\\\\Documents\\\\Workspace\\\\computer-vision\\\\computer-vision-meganha\\\\007-feature-extraction\\\\images\\\\template_th_bk\\\\F.png': 0.6913920044898987}], [2, {'C:\\\\Users\\\\shuel\\\\Documents\\\\Workspace\\\\computer-vision\\\\computer-vision-meganha\\\\007-feature-extraction\\\\images\\\\template_th_bk\\\\G.png': 0.669650673866272}], [2, {'C:\\\\Users\\\\shuel\\\\Documents\\\\Workspace\\\\computer-vision\\\\computer-vision-meganha\\\\007-feature-extraction\\\\images\\\\template_th_bk\\\\H.png': 0.5827467441558838}], [2, {'C:\\\\Users\\\\shuel\\\\Documents\\\\Workspace\\\\computer-vision\\\\computer-vision-meganha\\\\007-feature-extraction\\\\images\\\\template_th_bk\\\\I.png': 0.4026019871234894}], [2, {'C:\\\\Users\\\\shuel\\\\Documents\\\\Workspace\\\\computer-vision\\\\computer-vision-meganha\\\\007-feature-extraction\\\\images\\\\template_th_bk\\\\J.png': 0.4251546859741211}], [2, {'C:\\\\Users\\\\shuel\\\\Documents\\\\Workspace\\\\computer-vision\\\\computer-vision-meganha\\\\007-feature-extraction\\\\images\\\\template_th_bk\\\\K.png': 0.6480851769447327}], [2, {'C:\\\\Users\\\\shuel\\\\Documents\\\\Workspace\\\\computer-vision\\\\computer-vision-meganha\\\\007-feature-extraction\\\\images\\\\template_th_bk\\\\L.png': 0.6313518285751343}], [2, {'C:\\\\Users\\\\shuel\\\\Documents\\\\Workspace\\\\computer-vision\\\\computer-vision-meganha\\\\007-feature-extraction\\\\images\\\\template_th_bk\\\\M.png': 0.5401995778083801}], [2, {'C:\\\\Users\\\\shuel\\\\Documents\\\\Workspace\\\\computer-vision\\\\computer-vision-meganha\\\\007-feature-extraction\\\\images\\\\template_th_bk\\\\N.png': 0.5876564383506775}], [2, {'C:\\\\Users\\\\shuel\\\\Documents\\\\Workspace\\\\computer-vision\\\\computer-vision-meganha\\\\007-feature-extraction\\\\images\\\\template_th_bk\\\\O.png': 0.6095603704452515}], [2, {'C:\\\\Users\\\\shuel\\\\Documents\\\\Workspace\\\\computer-vision\\\\computer-vision-meganha\\\\007-feature-extraction\\\\images\\\\template_th_bk\\\\P.png': 0.702498197555542}], [2, {'C:\\\\Users\\\\shuel\\\\Documents\\\\Workspace\\\\computer-vision\\\\computer-vision-meganha\\\\007-feature-extraction\\\\images\\\\template_th_bk\\\\Q.png': 0.5815828442573547}], [2, {'C:\\\\Users\\\\shuel\\\\Documents\\\\Workspace\\\\computer-vision\\\\computer-vision-meganha\\\\007-feature-extraction\\\\images\\\\template_th_bk\\\\R.png': 0.6900679469108582}], [2, {'C:\\\\Users\\\\shuel\\\\Documents\\\\Workspace\\\\computer-vision\\\\computer-vision-meganha\\\\007-feature-extraction\\\\images\\\\template_th_bk\\\\S.png': 0.6824270486831665}], [2, {'C:\\\\Users\\\\shuel\\\\Documents\\\\Workspace\\\\computer-vision\\\\computer-vision-meganha\\\\007-feature-extraction\\\\images\\\\template_th_bk\\\\T.png': 0.4367193579673767}], [2, {'C:\\\\Users\\\\shuel\\\\Documents\\\\Workspace\\\\computer-vision\\\\computer-vision-meganha\\\\007-feature-extraction\\\\images\\\\template_th_bk\\\\U.png': 0.5788732171058655}], [2, {'C:\\\\Users\\\\shuel\\\\Documents\\\\Workspace\\\\computer-vision\\\\computer-vision-meganha\\\\007-feature-extraction\\\\images\\\\template_th_bk\\\\V.png': 0.4702683389186859}], [2, {'C:\\\\Users\\\\shuel\\\\Documents\\\\Workspace\\\\computer-vision\\\\computer-vision-meganha\\\\007-feature-extraction\\\\images\\\\template_th_bk\\\\W.png': 0.4733257293701172}], [2, {'C:\\\\Users\\\\shuel\\\\Documents\\\\Workspace\\\\computer-vision\\\\computer-vision-meganha\\\\007-feature-extraction\\\\images\\\\template_th_bk\\\\X.png': 0.5645398497581482}], [2, {'C:\\\\Users\\\\shuel\\\\Documents\\\\Workspace\\\\computer-vision\\\\computer-vision-meganha\\\\007-feature-extraction\\\\images\\\\template_th_bk\\\\Y.png': 0.3739832043647766}], [2, {'C:\\\\Users\\\\shuel\\\\Documents\\\\Workspace\\\\computer-vision\\\\computer-vision-meganha\\\\007-feature-extraction\\\\images\\\\template_th_bk\\\\Z.png': 0.6928351521492004}], [3, {'C:\\\\Users\\\\shuel\\\\Documents\\\\Workspace\\\\computer-vision\\\\computer-vision-meganha\\\\007-feature-extraction\\\\images\\\\template_th_bk\\\\1.png': 0.2940722405910492}], [3, {'C:\\\\Users\\\\shuel\\\\Documents\\\\Workspace\\\\computer-vision\\\\computer-vision-meganha\\\\007-feature-extraction\\\\images\\\\template_th_bk\\\\2.png': 0.5600520372390747}], [3, {'C:\\\\Users\\\\shuel\\\\Documents\\\\Workspace\\\\computer-vision\\\\computer-vision-meganha\\\\007-feature-extraction\\\\images\\\\template_th_bk\\\\3.png': 0.5854359865188599}], [3, {'C:\\\\Users\\\\shuel\\\\Documents\\\\Workspace\\\\computer-vision\\\\computer-vision-meganha\\\\007-feature-extraction\\\\images\\\\template_th_bk\\\\4.png': 0.4772365391254425}], [3, {'C:\\\\Users\\\\shuel\\\\Documents\\\\Workspace\\\\computer-vision\\\\computer-vision-meganha\\\\007-feature-extraction\\\\images\\\\template_th_bk\\\\5.png': 0.6055910587310791}], [3, {'C:\\\\Users\\\\shuel\\\\Documents\\\\Workspace\\\\computer-vision\\\\computer-vision-meganha\\\\007-feature-extraction\\\\images\\\\template_th_bk\\\\6.png': 0.6435680389404297}], [3, {'C:\\\\Users\\\\shuel\\\\Documents\\\\Workspace\\\\computer-vision\\\\computer-vision-meganha\\\\007-feature-extraction\\\\images\\\\template_th_bk\\\\7.png': 0.4523240625858307}], [3, {'C:\\\\Users\\\\shuel\\\\Documents\\\\Workspace\\\\computer-vision\\\\computer-vision-meganha\\\\007-feature-extraction\\\\images\\\\template_th_bk\\\\8.png': 0.6650277972221375}], [3, {'C:\\\\Users\\\\shuel\\\\Documents\\\\Workspace\\\\computer-vision\\\\computer-vision-meganha\\\\007-feature-extraction\\\\images\\\\template_th_bk\\\\9.png': 0.645449161529541}], [3, {'C:\\\\Users\\\\shuel\\\\Documents\\\\Workspace\\\\computer-vision\\\\computer-vision-meganha\\\\007-feature-extraction\\\\images\\\\template_th_bk\\\\A.png': 0.6608869433403015}], [3, {'C:\\\\Users\\\\shuel\\\\Documents\\\\Workspace\\\\computer-vision\\\\computer-vision-meganha\\\\007-feature-extraction\\\\images\\\\template_th_bk\\\\B.png': 0.8177517056465149}], [3, {'C:\\\\Users\\\\shuel\\\\Documents\\\\Workspace\\\\computer-vision\\\\computer-vision-meganha\\\\007-feature-extraction\\\\images\\\\template_th_bk\\\\C-Dilha.png': 0.6022424101829529}], [3, {'C:\\\\Users\\\\shuel\\\\Documents\\\\Workspace\\\\computer-vision\\\\computer-vision-meganha\\\\007-feature-extraction\\\\images\\\\template_th_bk\\\\C.png': 0.673914909362793}], [3, {'C:\\\\Users\\\\shuel\\\\Documents\\\\Workspace\\\\computer-vision\\\\computer-vision-meganha\\\\007-feature-extraction\\\\images\\\\template_th_bk\\\\D.png': 0.6802623867988586}], [3, {'C:\\\\Users\\\\shuel\\\\Documents\\\\Workspace\\\\computer-vision\\\\computer-vision-meganha\\\\007-feature-extraction\\\\images\\\\template_th_bk\\\\E.png': 0.7290710806846619}], [3, {'C:\\\\Users\\\\shuel\\\\Documents\\\\Workspace\\\\computer-vision\\\\computer-vision-meganha\\\\007-feature-extraction\\\\images\\\\template_th_bk\\\\F.png': 0.5847228765487671}], [3, {'C:\\\\Users\\\\shuel\\\\Documents\\\\Workspace\\\\computer-vision\\\\computer-vision-meganha\\\\007-feature-extraction\\\\images\\\\template_th_bk\\\\G.png': 0.7201980948448181}], [3, {'C:\\\\Users\\\\shuel\\\\Documents\\\\Workspace\\\\computer-vision\\\\computer-vision-meganha\\\\007-feature-extraction\\\\images\\\\template_th_bk\\\\H.png': 0.7696583271026611}], [3, {'C:\\\\Users\\\\shuel\\\\Documents\\\\Workspace\\\\computer-vision\\\\computer-vision-meganha\\\\007-feature-extraction\\\\images\\\\template_th_bk\\\\I.png': 0.2688267230987549}], [3, {'C:\\\\Users\\\\shuel\\\\Documents\\\\Workspace\\\\computer-vision\\\\computer-vision-meganha\\\\007-feature-extraction\\\\images\\\\template_th_bk\\\\J.png': 0.41813674569129944}], [3, {'C:\\\\Users\\\\shuel\\\\Documents\\\\Workspace\\\\computer-vision\\\\computer-vision-meganha\\\\007-feature-extraction\\\\images\\\\template_th_bk\\\\K.png': 0.687629759311676}], [3, {'C:\\\\Users\\\\shuel\\\\Documents\\\\Workspace\\\\computer-vision\\\\computer-vision-meganha\\\\007-feature-extraction\\\\images\\\\template_th_bk\\\\L.png': 0.40151792764663696}], [3, {'C:\\\\Users\\\\shuel\\\\Documents\\\\Workspace\\\\computer-vision\\\\computer-vision-meganha\\\\007-feature-extraction\\\\images\\\\template_th_bk\\\\M.png': 0.6744354963302612}], [3, {'C:\\\\Users\\\\shuel\\\\Documents\\\\Workspace\\\\computer-vision\\\\computer-vision-meganha\\\\007-feature-extraction\\\\images\\\\template_th_bk\\\\N.png': 0.7522075772285461}], [3, {'C:\\\\Users\\\\shuel\\\\Documents\\\\Workspace\\\\computer-vision\\\\computer-vision-meganha\\\\007-feature-extraction\\\\images\\\\template_th_bk\\\\O.png': 0.6741816401481628}], [3, {'C:\\\\Users\\\\shuel\\\\Documents\\\\Workspace\\\\computer-vision\\\\computer-vision-meganha\\\\007-feature-extraction\\\\images\\\\template_th_bk\\\\P.png': 0.7977484464645386}], [3, {'C:\\\\Users\\\\shuel\\\\Documents\\\\Workspace\\\\computer-vision\\\\computer-vision-meganha\\\\007-feature-extraction\\\\images\\\\template_th_bk\\\\Q.png': 0.6923566460609436}], [3, {'C:\\\\Users\\\\shuel\\\\Documents\\\\Workspace\\\\computer-vision\\\\computer-vision-meganha\\\\007-feature-extraction\\\\images\\\\template_th_bk\\\\R.png': 0.9015867114067078}], [3, {'C:\\\\Users\\\\shuel\\\\Documents\\\\Workspace\\\\computer-vision\\\\computer-vision-meganha\\\\007-feature-extraction\\\\images\\\\template_th_bk\\\\S.png': 0.6985306739807129}], [3, {'C:\\\\Users\\\\shuel\\\\Documents\\\\Workspace\\\\computer-vision\\\\computer-vision-meganha\\\\007-feature-extraction\\\\images\\\\template_th_bk\\\\T.png': 0.355979323387146}], [3, {'C:\\\\Users\\\\shuel\\\\Documents\\\\Workspace\\\\computer-vision\\\\computer-vision-meganha\\\\007-feature-extraction\\\\images\\\\template_th_bk\\\\U.png': 0.6873636841773987}], [3, {'C:\\\\Users\\\\shuel\\\\Documents\\\\Workspace\\\\computer-vision\\\\computer-vision-meganha\\\\007-feature-extraction\\\\images\\\\template_th_bk\\\\V.png': 0.5358474254608154}], [3, {'C:\\\\Users\\\\shuel\\\\Documents\\\\Workspace\\\\computer-vision\\\\computer-vision-meganha\\\\007-feature-extraction\\\\images\\\\template_th_bk\\\\W.png': 0.6204794645309448}], [3, {'C:\\\\Users\\\\shuel\\\\Documents\\\\Workspace\\\\computer-vision\\\\computer-vision-meganha\\\\007-feature-extraction\\\\images\\\\template_th_bk\\\\X.png': 0.6464971303939819}], [3, {'C:\\\\Users\\\\shuel\\\\Documents\\\\Workspace\\\\computer-vision\\\\computer-vision-meganha\\\\007-feature-extraction\\\\images\\\\template_th_bk\\\\Y.png': 0.39795196056365967}], [3, {'C:\\\\Users\\\\shuel\\\\Documents\\\\Workspace\\\\computer-vision\\\\computer-vision-meganha\\\\007-feature-extraction\\\\images\\\\template_th_bk\\\\Z.png': 0.55662602186203}], [4, {'C:\\\\Users\\\\shuel\\\\Documents\\\\Workspace\\\\computer-vision\\\\computer-vision-meganha\\\\007-feature-extraction\\\\images\\\\template_th_bk\\\\1.png': 0.28356286883354187}], [4, {'C:\\\\Users\\\\shuel\\\\Documents\\\\Workspace\\\\computer-vision\\\\computer-vision-meganha\\\\007-feature-extraction\\\\images\\\\template_th_bk\\\\2.png': 0.5886163711547852}], [4, {'C:\\\\Users\\\\shuel\\\\Documents\\\\Workspace\\\\computer-vision\\\\computer-vision-meganha\\\\007-feature-extraction\\\\images\\\\template_th_bk\\\\3.png': 0.622974157333374}], [4, {'C:\\\\Users\\\\shuel\\\\Documents\\\\Workspace\\\\computer-vision\\\\computer-vision-meganha\\\\007-feature-extraction\\\\images\\\\template_th_bk\\\\4.png': 0.4246329069137573}], [4, {'C:\\\\Users\\\\shuel\\\\Documents\\\\Workspace\\\\computer-vision\\\\computer-vision-meganha\\\\007-feature-extraction\\\\images\\\\template_th_bk\\\\5.png': 0.6223968863487244}], [4, {'C:\\\\Users\\\\shuel\\\\Documents\\\\Workspace\\\\computer-vision\\\\computer-vision-meganha\\\\007-feature-extraction\\\\images\\\\template_th_bk\\\\6.png': 0.6724041700363159}], [4, {'C:\\\\Users\\\\shuel\\\\Documents\\\\Workspace\\\\computer-vision\\\\computer-vision-meganha\\\\007-feature-extraction\\\\images\\\\template_th_bk\\\\7.png': 0.40627628564834595}], [4, {'C:\\\\Users\\\\shuel\\\\Documents\\\\Workspace\\\\computer-vision\\\\computer-vision-meganha\\\\007-feature-extraction\\\\images\\\\template_th_bk\\\\8.png': 0.669333279132843}], [4, {'C:\\\\Users\\\\shuel\\\\Documents\\\\Workspace\\\\computer-vision\\\\computer-vision-meganha\\\\007-feature-extraction\\\\images\\\\template_th_bk\\\\9.png': 0.6554874181747437}], [4, {'C:\\\\Users\\\\shuel\\\\Documents\\\\Workspace\\\\computer-vision\\\\computer-vision-meganha\\\\007-feature-extraction\\\\images\\\\template_th_bk\\\\A.png': 0.5183186531066895}], [4, {'C:\\\\Users\\\\shuel\\\\Documents\\\\Workspace\\\\computer-vision\\\\computer-vision-meganha\\\\007-feature-extraction\\\\images\\\\template_th_bk\\\\B.png': 0.756741464138031}], [4, {'C:\\\\Users\\\\shuel\\\\Documents\\\\Workspace\\\\computer-vision\\\\computer-vision-meganha\\\\007-feature-extraction\\\\images\\\\template_th_bk\\\\C-Dilha.png': 0.7087724208831787}], [4, {'C:\\\\Users\\\\shuel\\\\Documents\\\\Workspace\\\\computer-vision\\\\computer-vision-meganha\\\\007-feature-extraction\\\\images\\\\template_th_bk\\\\C.png': 0.7639436721801758}], [4, {'C:\\\\Users\\\\shuel\\\\Documents\\\\Workspace\\\\computer-vision\\\\computer-vision-meganha\\\\007-feature-extraction\\\\images\\\\template_th_bk\\\\D.png': 0.987704873085022}], [4, {'C:\\\\Users\\\\shuel\\\\Documents\\\\Workspace\\\\computer-vision\\\\computer-vision-meganha\\\\007-feature-extraction\\\\images\\\\template_th_bk\\\\E.png': 0.6806918978691101}], [4, {'C:\\\\Users\\\\shuel\\\\Documents\\\\Workspace\\\\computer-vision\\\\computer-vision-meganha\\\\007-feature-extraction\\\\images\\\\template_th_bk\\\\F.png': 0.5392659306526184}], [4, {'C:\\\\Users\\\\shuel\\\\Documents\\\\Workspace\\\\computer-vision\\\\computer-vision-meganha\\\\007-feature-extraction\\\\images\\\\template_th_bk\\\\G.png': 0.7540901899337769}], [4, {'C:\\\\Users\\\\shuel\\\\Documents\\\\Workspace\\\\computer-vision\\\\computer-vision-meganha\\\\007-feature-extraction\\\\images\\\\template_th_bk\\\\H.png': 0.5871049165725708}], [4, {'C:\\\\Users\\\\shuel\\\\Documents\\\\Workspace\\\\computer-vision\\\\computer-vision-meganha\\\\007-feature-extraction\\\\images\\\\template_th_bk\\\\I.png': 0.3294528126716614}], [4, {'C:\\\\Users\\\\shuel\\\\Documents\\\\Workspace\\\\computer-vision\\\\computer-vision-meganha\\\\007-feature-extraction\\\\images\\\\template_th_bk\\\\J.png': 0.44246089458465576}], [4, {'C:\\\\Users\\\\shuel\\\\Documents\\\\Workspace\\\\computer-vision\\\\computer-vision-meganha\\\\007-feature-extraction\\\\images\\\\template_th_bk\\\\K.png': 0.5371665954589844}], [4, {'C:\\\\Users\\\\shuel\\\\Documents\\\\Workspace\\\\computer-vision\\\\computer-vision-meganha\\\\007-feature-extraction\\\\images\\\\template_th_bk\\\\L.png': 0.549878716468811}], [4, {'C:\\\\Users\\\\shuel\\\\Documents\\\\Workspace\\\\computer-vision\\\\computer-vision-meganha\\\\007-feature-extraction\\\\images\\\\template_th_bk\\\\M.png': 0.6344055533409119}], [4, {'C:\\\\Users\\\\shuel\\\\Documents\\\\Workspace\\\\computer-vision\\\\computer-vision-meganha\\\\007-feature-extraction\\\\images\\\\template_th_bk\\\\N.png': 0.592494785785675}], [4, {'C:\\\\Users\\\\shuel\\\\Documents\\\\Workspace\\\\computer-vision\\\\computer-vision-meganha\\\\007-feature-extraction\\\\images\\\\template_th_bk\\\\O.png': 0.8774719834327698}], [4, {'C:\\\\Users\\\\shuel\\\\Documents\\\\Workspace\\\\computer-vision\\\\computer-vision-meganha\\\\007-feature-extraction\\\\images\\\\template_th_bk\\\\P.png': 0.700291097164154}], [4, {'C:\\\\Users\\\\shuel\\\\Documents\\\\Workspace\\\\computer-vision\\\\computer-vision-meganha\\\\007-feature-extraction\\\\images\\\\template_th_bk\\\\Q.png': 0.8037092089653015}], [4, {'C:\\\\Users\\\\shuel\\\\Documents\\\\Workspace\\\\computer-vision\\\\computer-vision-meganha\\\\007-feature-extraction\\\\images\\\\template_th_bk\\\\R.png': 0.6322677731513977}], [4, {'C:\\\\Users\\\\shuel\\\\Documents\\\\Workspace\\\\computer-vision\\\\computer-vision-meganha\\\\007-feature-extraction\\\\images\\\\template_th_bk\\\\S.png': 0.712085485458374}], [4, {'C:\\\\Users\\\\shuel\\\\Documents\\\\Workspace\\\\computer-vision\\\\computer-vision-meganha\\\\007-feature-extraction\\\\images\\\\template_th_bk\\\\T.png': 0.31917983293533325}], [4, {'C:\\\\Users\\\\shuel\\\\Documents\\\\Workspace\\\\computer-vision\\\\computer-vision-meganha\\\\007-feature-extraction\\\\images\\\\template_th_bk\\\\U.png': 0.687920868396759}], [4, {'C:\\\\Users\\\\shuel\\\\Documents\\\\Workspace\\\\computer-vision\\\\computer-vision-meganha\\\\007-feature-extraction\\\\images\\\\template_th_bk\\\\V.png': 0.5287782549858093}], [4, {'C:\\\\Users\\\\shuel\\\\Documents\\\\Workspace\\\\computer-vision\\\\computer-vision-meganha\\\\007-feature-extraction\\\\images\\\\template_th_bk\\\\W.png': 0.5542846322059631}], [4, {'C:\\\\Users\\\\shuel\\\\Documents\\\\Workspace\\\\computer-vision\\\\computer-vision-meganha\\\\007-feature-extraction\\\\images\\\\template_th_bk\\\\X.png': 0.4829752743244171}], [4, {'C:\\\\Users\\\\shuel\\\\Documents\\\\Workspace\\\\computer-vision\\\\computer-vision-meganha\\\\007-feature-extraction\\\\images\\\\template_th_bk\\\\Y.png': 0.32325801253318787}], [4, {'C:\\\\Users\\\\shuel\\\\Documents\\\\Workspace\\\\computer-vision\\\\computer-vision-meganha\\\\007-feature-extraction\\\\images\\\\template_th_bk\\\\Z.png': 0.565321683883667}]]\n"
     ]
    }
   ],
   "source": [
    "vetor_letras = []\n",
    "max_valor_template = []\n",
    "\n",
    "for j in range(len(filelist_captcha_cut)):\n",
    "\n",
    "    img_captcha = cv2.imread(filelist_captcha_cut[j], 0)\n",
    "\n",
    "    \n",
    "\n",
    "    for i in range(len(filelist)):\n",
    "\n",
    "        # Ler a imagem template\n",
    "        path2 = filelist[i]\n",
    "        template = cv2.imread(path2, 0)\n",
    "\n",
    "        (height, width) = template.shape[:2]\n",
    "\n",
    "        temp_found = None\n",
    "        \n",
    "        match = cv2.matchTemplate(img_captcha, template, cv2.TM_CCOEFF_NORMED)\n",
    "        (_, val_max, _, loc_max) = cv2.minMaxLoc(match)\n",
    "\n",
    "        # Matriz com os valores dos calculos de valores max\n",
    "        max_valor_template.append([j,{filelist[i]:val_max}])\n",
    "\n",
    "\n",
    "        print(f'O valor de correspondecia e: {val_max}')\n",
    "print(max_valor_template)\n"
   ]
  },
  {
   "cell_type": "code",
   "execution_count": 18,
   "metadata": {},
   "outputs": [
    {
     "name": "stdout",
     "output_type": "stream",
     "text": [
      "[10, 24, 14, 27, 13]\n"
     ]
    }
   ],
   "source": [
    "# Organizando o vetor com os candidatos a solução de acordo com a pontuacao do vetor max_valor_template\n",
    "mat = pd.DataFrame(max_valor_template)\n",
    "\n",
    "list_mat = list(mat.groupby([0]))\n",
    "# print(list_mat)\n",
    "\n",
    "campeoes = [] # Matriz com os templates com melhor valor_max calculado\n",
    "\n",
    "for i in range(len(list_mat)):\n",
    "    a = list_mat[i][1]\n",
    "    pontos = [list(valor.values()) for valor in a[1]]\n",
    "    pontuacao = [ponto[0] for ponto in pontos]\n",
    "    campea = np.flip(np.argsort(pontuacao))\n",
    "\n",
    "    campeoes.append(campea[0])\n",
    "\n",
    "print(campeoes) "
   ]
  },
  {
   "cell_type": "code",
   "execution_count": 19,
   "metadata": {},
   "outputs": [
    {
     "name": "stdout",
     "output_type": "stream",
     "text": [
      "['B', 'O', 'E', 'R', 'D']\n",
      "\n",
      "\n",
      "C:\\Users\\shuel\\Documents\\Workspace\\computer-vision\\computer-vision-meganha\\007-feature-extraction\\images\\templates\\frame837.png\n"
     ]
    }
   ],
   "source": [
    "# Vetor dos captachas solucao\n",
    "\n",
    "letras_captchas = []\n",
    "for j in range(len(campeoes)):\n",
    "    letras_captchas.append(filelist[campeoes[j]].split('.')[0][-1:])\n",
    "\n",
    "letras_captchas_total = pd.Series(letras_captchas)\n",
    "\n",
    "letras_captchas_total = letras_captchas_total.str.replace('C-Dilha', 'Ç')\n",
    "\n",
    "letras_captchas_total = letras_captchas_total.tolist()\n",
    "print(letras_captchas_total)\n",
    "print('\\n')\n",
    "print(captcha_random)"
   ]
  },
  {
   "cell_type": "code",
   "execution_count": 20,
   "metadata": {},
   "outputs": [
    {
     "data": {
      "image/png": "[encoded data removed]",
      "text/plain": [
       "<Figure size 432x288 with 5 Axes>"
      ]
     },
     "metadata": {
      "needs_background": "light"
     },
     "output_type": "display_data"
    }
   ],
   "source": [
    "plt.subplot(3,2,1), plt.imshow(main_image)\n",
    "plt.subplot(3,2,2), plt.imshow(color_mask)\n",
    "plt.subplot(3,2,3), plt.imshow(img_bilateral, cmap='gray')\n",
    "plt.subplot(3,2,4), plt.imshow(img_erode, cmap='gray')\n",
    "plt.subplot(3,2,5), plt.imshow(img_th, cmap='gray')\n",
    "plt.show()"
   ]
  },
  {
   "cell_type": "code",
   "execution_count": null,
   "metadata": {},
   "outputs": [],
   "source": []
  }
 ],
 "metadata": {
  "kernelspec": {
   "display_name": "Python 3.10.5 64-bit",
   "language": "python",
   "name": "python3"
  },
  "language_info": {
   "codemirror_mode": {
    "name": "ipython",
    "version": 3
   },
   "file_extension": ".py",
   "mimetype": "text/x-python",
   "name": "python",
   "nbconvert_exporter": "python",
   "pygments_lexer": "ipython3",
   "version": "3.10.5"
  },
  "orig_nbformat": 4,
  "vscode": {
   "interpreter": {
    "hash": "a23bcfe06a6d672af8b0fbe906cddea9cbe9d26b453b4b4efa0a359c506158a1"
   }
  }
 },
 "nbformat": 4,
 "nbformat_minor": 2
}
