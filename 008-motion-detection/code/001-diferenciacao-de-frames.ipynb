{
 "cells": [
  {
   "cell_type": "markdown",
   "metadata": {},
   "source": [
    "### Diferenciação de frames\n",
    "\n",
    "* A diferenciação de frames trata de determinar a presença de objetos em movimento, calculando a diferença de pixels entre duas imagens consecutivas em um vídeo. Embora o cálculo geral seja simples e fácil de implementar, a complexidade aumenta por causa do objeto \"em movimento\", o que pode comprometer a precisão\n",
    "\n",
    "* As técnicas de diferenciação de frames têm alta precisão e tempo computacional relativamente baixo ou moderado; este método funciona bem para fundos estáticos\n",
    "\n",
    "\n",
    "##### Função **cv2.absdiff(src1, src1)**\n",
    "\n",
    "* Calcula a diferença absoluta por elemento entre duas matrizes ou entre uma matriz e uma escalar\n",
    "* Parâmetros:\n",
    "    \n",
    "            1. src1 - primeira matriz de entrada ou um escalar\n",
    "            2. src2 - segunda matriz de entrada ou um escalar"
   ]
  },
  {
   "cell_type": "code",
   "execution_count": 1,
   "metadata": {},
   "outputs": [],
   "source": [
    "import cv2\n",
    "\n",
    "# cap = cv2.VideoCapture(r'C:\\Users\\shuel\\Documents\\Workspace\\computer-vision\\computer-vision-meganha\\008-motion-detection\\images\\motion-detection-test.mp4')\n",
    "cap = cv2.VideoCapture(0)\n",
    "ret, frame = cap.read()\n",
    "prox_frame = frame\n",
    "\n",
    "while True:\n",
    "    frame_gray = cv2.cvtColor(frame, cv2.COLOR_BGR2GRAY)\n",
    "    prox_frame_gray = cv2.cvtColor(prox_frame, cv2.COLOR_BGR2GRAY)\n",
    "\n",
    "    frame_diff = cv2.absdiff(frame_gray, prox_frame_gray)\n",
    "\n",
    "    cv2.imshow('frame diff', frame_diff)\n",
    "    if cv2.waitKey(1) & 0xFF == ord('q'):\n",
    "        break\n",
    "\n",
    "    prox_frame = frame.copy()\n",
    "    ret, frame = cap.read()\n",
    "\n",
    "cap.release()\n",
    "cv2.destroyAllWindows()"
   ]
  },
  {
   "cell_type": "markdown",
   "metadata": {},
   "source": []
  }
 ],
 "metadata": {
  "kernelspec": {
   "display_name": "Python 3.10.5 64-bit",
   "language": "python",
   "name": "python3"
  },
  "language_info": {
   "codemirror_mode": {
    "name": "ipython",
    "version": 3
   },
   "file_extension": ".py",
   "mimetype": "text/x-python",
   "name": "python",
   "nbconvert_exporter": "python",
   "pygments_lexer": "ipython3",
   "version": "3.10.5"
  },
  "orig_nbformat": 4,
  "vscode": {
   "interpreter": {
    "hash": "a23bcfe06a6d672af8b0fbe906cddea9cbe9d26b453b4b4efa0a359c506158a1"
   }
  }
 },
 "nbformat": 4,
 "nbformat_minor": 2
}
