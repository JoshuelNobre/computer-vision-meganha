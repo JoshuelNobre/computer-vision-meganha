{
 "cells": [
  {
   "cell_type": "markdown",
   "metadata": {},
   "source": [
    "### Fluxo optico\n",
    "\n",
    "Fluxo óptico é um algoritmo de visão computacional que, em poucas palavras, analisa o movimento dos pixels de um frame para outro. Como tal, é particularmente útil onde você tem movimento de fundo que não permite o uso de outros métodos. É um dos algoritmos de visão computacional mais rápidos de configurar, embora seja bastante custoso em termos computacionais\n",
    "\n",
    "##### Função **calcOpticalFlowFarneback()**\n",
    "\n",
    "Computar o fluxo ótico denso usando o algoritmo de Gunnar Ferneback's\n",
    "\n",
    "**cv2.calcOpeticalFlowFarneback(prev, next, flow, pyr_scale, levels, winsize, iterations, poly_n, poly_sigma, flags)**\n",
    "\n",
    "* Parâmetros:\n",
    "\n",
    "        1. prev - frame de entrada\n",
    "        2. next - segundo frame do mesmo tamanho que o \"prev\"\n",
    "        3. flow - computa o fluxo da imagem que tem o mesmo tamanho do \"prev\"\n",
    "        4. pyt_scale - parâmetro, especificando a escala da imagem (<1) para construir pirâmides para cada imagem; pyr_scale = 0.5 significa uma pirâmide clássica, onde cada camada seguinte é duas vezes menor que a anterior\n",
    "        5. levels - número de camadas da pirâmide incluindo a imagem inicial; níveis = 1 significa que nhuma camada extra é criada e apenas as imagens originais são usadas\n",
    "        6. winsize - tamanho médio da janela; valores maiores aumentam a robustez do algoritmo para ruído de imagem e fornecem mais chances de detecção de movimento rápido, mas geram mais campo de movimento borrado.\n",
    "        7. iterations - tamanho de iterações do algoritmo de cada level da pirâmide\n",
    "        8. poly_n - tamanho da vizinhança do pixel usado para encontrar a expansão polinomial em cada pixel; valores maiores significam que a imagem será aproximada com superfícies mais suaves, gerando algoritmo mais robusto e campo de movimento mais borrado, normalmente poly_n = 5 ou 7. \n",
    "        9. poly_sigma - desvio padrão do Gaussiano que é usado para suavizar as derivadas usadas como base para expansão polinomial; para poly_n = 5, você pode definir poly_sigma = 1,1, para poly_n =7, um bom valor seria poly_sigma = 1,5.\n",
    "        10. flags - operações de fluxo:\n",
    "\n",
    "                * OPTFLOW_USE_INITAL_FLOW: usa o fluxo de entrada como uma aproximação de fluxo inicial\n",
    "                * OPTFLOW_FARNEBACK_GAUSSIAN: usa o filtro Gaussiano do tamanho da janela em vez de um filtro de caixa do mesmo tamanho para estimativa de fluxo ótico; geralmente, esta opção fornece um fluxo mais preciso do que com um filtro de caixa, ao custo de uma velocidade menor, normalmente, o tamanho da caixa para uma janela Gaussiana deve ser definido com um valor maior para atingir o mesmo nível de robustez \n",
    "\n",
    "        "
   ]
  },
  {
   "cell_type": "code",
   "execution_count": 1,
   "metadata": {},
   "outputs": [],
   "source": [
    "import numpy as np\n",
    "import cv2"
   ]
  },
  {
   "cell_type": "code",
   "execution_count": 2,
   "metadata": {},
   "outputs": [],
   "source": [
    "# Capturar a imagem da webcam\n",
    "cap = cv2.VideoCapture(0)"
   ]
  },
  {
   "cell_type": "code",
   "execution_count": 4,
   "metadata": {},
   "outputs": [],
   "source": [
    "# Lendo o primeiro frame\n",
    "ret, first_frame = cap.read()\n",
    "prev_gray = cv2.cvtColor(first_frame, cv2.COLOR_BGR2GRAY)"
   ]
  },
  {
   "cell_type": "code",
   "execution_count": 5,
   "metadata": {},
   "outputs": [],
   "source": [
    "# Criar uma máscara no primeiro frame\n",
    "mask = np.zeros_like(first_frame)"
   ]
  },
  {
   "cell_type": "code",
   "execution_count": 6,
   "metadata": {},
   "outputs": [],
   "source": [
    "# Seta a imagem com saturação no max\n",
    "mask[...,1] = 255"
   ]
  },
  {
   "cell_type": "code",
   "execution_count": 7,
   "metadata": {},
   "outputs": [],
   "source": [
    "while True:\n",
    "    ret, frame = cap.read()\n",
    "    gray = cv2.cvtColor(frame, cv2.COLOR_BGR2GRAY)\n",
    "\n",
    "    flow = cv2.calcOpticalFlowFarneback(\n",
    "                                        prev_gray,\n",
    "                                        gray,\n",
    "                                        None,\n",
    "                                        pyr_scale= 0.5,\n",
    "                                        levels=3,\n",
    "                                        winsize=15,\n",
    "                                        iterations=3,\n",
    "                                        poly_n=5,\n",
    "                                        poly_sigma=1.1,\n",
    "                                        flags=0\n",
    "                                        )\n",
    "\n",
    "    # Computadar a magnitude ang do optical flow dos vetores 2D\n",
    "    magnitude, angle = cv2.cartToPolar(flow[...,0], flow[...,1])\n",
    "\n",
    "    # Setar o hue de acordo com o fluxo optico\n",
    "    mask[..., 0] = angle * 180 / np.pi / 2\n",
    "\n",
    "    # Setar a imagem de acordo com a magnitude de fluxo optico (normalizado)\n",
    "    mask[...,2] = cv2.normalize(magnitude, None, 0, 255, cv2.NORM_MINMAX)\n",
    "\n",
    "    # Converter HSV para BGR\n",
    "    rgb = cv2.cvtColor(mask, cv2.COLOR_HSV2BGR)\n",
    "\n",
    "    # Soma ponderada\n",
    "    dense_flow = cv2.addWeighted(frame, 1, rgb, 2, 0)\n",
    "\n",
    "    # Mostar\n",
    "    cv2.imshow(\"Dense optical flwo\", dense_flow)\n",
    "    prev_gray = gray\n",
    "    if cv2.waitKey(10) & 0xFF == ord('q'):\n",
    "        break\n",
    "\n",
    "cap.release()\n",
    "cv2.destroyAllWindows()"
   ]
  },
  {
   "cell_type": "code",
   "execution_count": null,
   "metadata": {},
   "outputs": [],
   "source": []
  }
 ],
 "metadata": {
  "kernelspec": {
   "display_name": "Python 3.10.5 64-bit",
   "language": "python",
   "name": "python3"
  },
  "language_info": {
   "codemirror_mode": {
    "name": "ipython",
    "version": 3
   },
   "file_extension": ".py",
   "mimetype": "text/x-python",
   "name": "python",
   "nbconvert_exporter": "python",
   "pygments_lexer": "ipython3",
   "version": "3.10.5"
  },
  "orig_nbformat": 4,
  "vscode": {
   "interpreter": {
    "hash": "a23bcfe06a6d672af8b0fbe906cddea9cbe9d26b453b4b4efa0a359c506158a1"
   }
  }
 },
 "nbformat": 4,
 "nbformat_minor": 2
}
