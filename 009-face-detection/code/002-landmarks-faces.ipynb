{
 "cells": [
  {
   "cell_type": "markdown",
   "metadata": {},
   "source": [
    "### Landmarks\n",
    "\n",
    "##### Requirements.\n",
    "        1. OpenCV\n",
    "        2. imutils\n",
    "        3. dlib\n",
    "As landmarks são pontos-chaves encontrados em todos os rostos humanos mas diferentes em cada ser humano. Podem ser considaro como landmarks: canto do olho, formato da boca, formato do rosto, nariz e etc"
   ]
  },
  {
   "cell_type": "code",
   "execution_count": 1,
   "metadata": {},
   "outputs": [],
   "source": [
    "import cv2\n",
    "import dlib\n",
    "from imutils import face_utils"
   ]
  },
  {
   "cell_type": "markdown",
   "metadata": {},
   "source": [
    "A biblioteca dlib possui de maneira já treinada um repositório próprio que consegue detectar 68 landmarks na face humana."
   ]
  },
  {
   "cell_type": "code",
   "execution_count": 2,
   "metadata": {},
   "outputs": [],
   "source": [
    "p = r\"C:\\Users\\shuel\\Documents\\Workspace\\computer-vision\\computer-vision-meganha\\009-face-detection\\shape_predictor_68_face_landmarks.dat\"\n",
    "detector = dlib.get_frontal_face_detector()\n",
    "predictor = dlib.shape_predictor(p)\n",
    "\n",
    "cap = cv2.VideoCapture(0)"
   ]
  },
  {
   "cell_type": "markdown",
   "metadata": {},
   "source": [
    "* Detecção da face pelo webcam.\n",
    "* Imagem em tons de cinza\n",
    "* Key-points e enumeração\n",
    "* Mostrar as landmarks detectadas"
   ]
  },
  {
   "cell_type": "code",
   "execution_count": 3,
   "metadata": {},
   "outputs": [],
   "source": [
    "while True:\n",
    "    ret, frame = cap.read()\n",
    "    gray = cv2.cvtColor(frame, cv2.COLOR_BGR2GRAY)\n",
    "\n",
    "    rects = detector(gray, 0)\n",
    "\n",
    "    for (i, rect) in enumerate(rects):\n",
    "        shape = predictor(gray, rect)\n",
    "        for j in range(1,68):\n",
    "            cv2.putText(\n",
    "                frame, \n",
    "                str(j), \n",
    "                (\n",
    "                    shape.part(j).x, \n",
    "                    shape.part(j).y\n",
    "                ), \n",
    "                fontFace=cv2.FONT_HERSHEY_SCRIPT_SIMPLEX,\n",
    "                fontScale=0.3,\n",
    "                color=(0,0,255)               \n",
    "            )\n",
    "    cv2.imshow(\"Frame\", frame)\n",
    "    k = cv2.waitKey(5) & 0xFF\n",
    "    if k == 27:\n",
    "        break\n",
    "cap.release()\n",
    "cv2.destroyAllWindows()\n"
   ]
  },
  {
   "cell_type": "code",
   "execution_count": null,
   "metadata": {},
   "outputs": [],
   "source": []
  }
 ],
 "metadata": {
  "kernelspec": {
   "display_name": "Python 3.10.5 64-bit",
   "language": "python",
   "name": "python3"
  },
  "language_info": {
   "codemirror_mode": {
    "name": "ipython",
    "version": 3
   },
   "file_extension": ".py",
   "mimetype": "text/x-python",
   "name": "python",
   "nbconvert_exporter": "python",
   "pygments_lexer": "ipython3",
   "version": "3.10.5"
  },
  "orig_nbformat": 4,
  "vscode": {
   "interpreter": {
    "hash": "a23bcfe06a6d672af8b0fbe906cddea9cbe9d26b453b4b4efa0a359c506158a1"
   }
  }
 },
 "nbformat": 4,
 "nbformat_minor": 2
}
