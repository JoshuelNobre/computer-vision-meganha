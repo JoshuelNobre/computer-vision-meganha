{
 "cells": [
  {
   "cell_type": "code",
   "execution_count": 1,
   "metadata": {},
   "outputs": [],
   "source": [
    "import numpy as np\n",
    "import cv2\n",
    "import imutils\n",
    "import pytesseract"
   ]
  },
  {
   "cell_type": "code",
   "execution_count": 2,
   "metadata": {},
   "outputs": [],
   "source": [
    "verbose = True"
   ]
  },
  {
   "cell_type": "code",
   "execution_count": 3,
   "metadata": {},
   "outputs": [],
   "source": [
    "image = cv2.imread(r'C:\\Users\\shuel\\Documents\\Workspace\\computer-vision\\computer-vision-meganha\\010-pytesseract\\images\\2.jpg')"
   ]
  },
  {
   "cell_type": "code",
   "execution_count": 4,
   "metadata": {},
   "outputs": [],
   "source": [
    "image = imutils.resize(image, width=500)"
   ]
  },
  {
   "cell_type": "code",
   "execution_count": 5,
   "metadata": {},
   "outputs": [],
   "source": [
    "# Mostrar imagem original\n",
    "if verbose == True:\n",
    "    cv2.imshow(\"Imagem Original\", image)\n",
    "    cv2.waitKey(0)\n",
    "    cv2.destroyAllWindows()"
   ]
  },
  {
   "cell_type": "code",
   "execution_count": 6,
   "metadata": {},
   "outputs": [],
   "source": [
    "# Conversão para tons de cinza\n",
    "# Mostrar a imagem convertida\n",
    "gray = cv2.cvtColor (image, cv2.COLOR_BGR2GRAY)\n",
    "\n",
    "if verbose == True:\n",
    "    cv2.imshow(\"Imagem em tons de Cinza\", gray)\n",
    "    cv2.waitKey(0)\n",
    "    cv2.destroyAllWindows()"
   ]
  },
  {
   "cell_type": "code",
   "execution_count": 7,
   "metadata": {},
   "outputs": [],
   "source": [
    "# Filtro bilateral, reduz o ruído e deixa os bordas nítidas (operação mais lenta que outros filtros)\n",
    "# Mostrar a imagem convertida\n",
    "gray = cv2.bilateralFilter(gray, 11,17,17)\n",
    "\n",
    "if verbose == True:\n",
    "    cv2.imshow(\"Imagem Filtrada\", gray)\n",
    "    cv2.waitKey(0)\n",
    "    cv2.destroyAllWindows()"
   ]
  },
  {
   "cell_type": "code",
   "execution_count": 8,
   "metadata": {},
   "outputs": [],
   "source": [
    "# Detectar as bordas da imagem filtrada\n",
    "# Mostrar a imagem convertida\n",
    "\n",
    "edge = cv2.Canny(gray, 170, 200)\n",
    "\n",
    "if verbose == True:\n",
    "    cv2.imshow(\"Imagem Bordas\", edge)\n",
    "    cv2.waitKey(0)\n",
    "    cv2.destroyAllWindows()"
   ]
  },
  {
   "cell_type": "code",
   "execution_count": 9,
   "metadata": {},
   "outputs": [],
   "source": [
    "# Extrair os contornos da imagem\n",
    "cnts, _ = cv2.findContours(edge.copy(), cv2.RETR_LIST, cv2.CHAIN_APPROX_SIMPLE)\n",
    "\n",
    "# Depois de encontrar os contornos eles precisam ser desenhados\n",
    "img1 = image.copy()\n",
    "cv2.drawContours(img1, cnts, -1, (0,255,0), 2)\n",
    "\n",
    "# Mostrar a imagem convertida\n",
    "if verbose == True:\n",
    "    cv2.imshow(\"Imagem Contornos\", img1)\n",
    "    cv2.waitKey(0)\n",
    "    cv2.destroyAllWindows()\n"
   ]
  },
  {
   "cell_type": "code",
   "execution_count": 10,
   "metadata": {},
   "outputs": [],
   "source": [
    "# Depois de desenhados os contornos, iremos ordena-los com base na sua área, mantendo a área mínima de 30\n",
    "cnts = sorted(cnts, key=cv2.contourArea, reverse=True)[:30]\n",
    "NumPlacaCnt = None\n",
    "\n",
    "img2 = image.copy()\n",
    "cv2.drawContours(img2, cnts, -1, (0,255,0), 2)\n",
    "\n",
    "if verbose == True:\n",
    "    cv2.imshow(\"Imagem TOP 30\", img2)\n",
    "    cv2.waitKey(0)\n",
    "    cv2.destroyAllWindows()"
   ]
  },
  {
   "cell_type": "code",
   "execution_count": 11,
   "metadata": {},
   "outputs": [],
   "source": [
    "# Depois de encontrado os melhores contornos, preciso fazer um loop sobre os contornos para encontrar melhor aproximação do contorno do número da placa\n",
    "count = 0\n",
    "idx = 1\n",
    "\n",
    "for c in cnts:\n",
    "    peri = cv2.arcLength(c, True)\n",
    "    approx = cv2.approxPolyDP(c, 0.02*peri, True)\n",
    "    if len(approx) == 4:\n",
    "        NumPlacaCnt = approx\n",
    "\n",
    "        x,y,w,h = cv2.boundingRect(c)\n",
    "        new_img = gray[y:y+h, x:x+w]\n",
    "        cv2.imwrite('Placa' + str(idx) + '.png', new_img)\n",
    "        break\n",
    "\n",
    "cv2.drawContours(image, [NumPlacaCnt], -1, (0,255,0), 3)\n",
    "\n",
    "if verbose == True:\n",
    "    cv2.imshow(\"Imagem final com placa detectada\", image)\n",
    "    cv2.waitKey(0)\n",
    "    cv2.destroyAllWindows()\n",
    "\n",
    "Cropped_img_loc = 'Placa' + str(idx) + '.png'\n",
    "\n",
    "if verbose == True:\n",
    "    cv2.imshow(\"Imagem cropped placa\", cv2.imread(Cropped_img_loc))\n",
    "    cv2.waitKey(0)\n",
    "    cv2.destroyAllWindows()"
   ]
  },
  {
   "cell_type": "code",
   "execution_count": 18,
   "metadata": {},
   "outputs": [],
   "source": [
    "path = r'C:\\Program Files (x86)\\Tesseract-OCR\\tesseract.exe'"
   ]
  },
  {
   "cell_type": "code",
   "execution_count": 19,
   "metadata": {},
   "outputs": [
    {
     "ename": "AttributeError",
     "evalue": "'str' object has no attribute 'pytesseract'",
     "output_type": "error",
     "traceback": [
      "\u001b[1;31m---------------------------------------------------------------------------\u001b[0m",
      "\u001b[1;31mAttributeError\u001b[0m                            Traceback (most recent call last)",
      "\u001b[1;32mc:\\Users\\shuel\\Documents\\Workspace\\computer-vision\\computer-vision-meganha\\010-pytesseract\\code\\001-leitura-placa.ipynb Célula: 13\u001b[0m in \u001b[0;36m<cell line: 1>\u001b[1;34m()\u001b[0m\n\u001b[1;32m----> <a href='vscode-notebook-cell:/c%3A/Users/shuel/Documents/Workspace/computer-vision/computer-vision-meganha/010-pytesseract/code/001-leitura-placa.ipynb#X16sZmlsZQ%3D%3D?line=0'>1</a>\u001b[0m pytesseract\u001b[39m.\u001b[39;49mpytesseract\u001b[39m.\u001b[39mtesseract_cmd \u001b[39m=\u001b[39m path\n",
      "\u001b[1;31mAttributeError\u001b[0m: 'str' object has no attribute 'pytesseract'"
     ]
    }
   ],
   "source": [
    "pytesseract.pytesseract.tesseract_cmd = path"
   ]
  },
  {
   "cell_type": "code",
   "execution_count": 12,
   "metadata": {},
   "outputs": [
    {
     "ename": "AttributeError",
     "evalue": "'str' object has no attribute 'image_to_string'",
     "output_type": "error",
     "traceback": [
      "\u001b[1;31m---------------------------------------------------------------------------\u001b[0m",
      "\u001b[1;31mAttributeError\u001b[0m                            Traceback (most recent call last)",
      "\u001b[1;32mc:\\Users\\shuel\\Documents\\Workspace\\computer-vision\\computer-vision-meganha\\010-pytesseract\\code\\001-leitura-placa.ipynb Célula: 14\u001b[0m in \u001b[0;36m<cell line: 1>\u001b[1;34m()\u001b[0m\n\u001b[1;32m----> <a href='vscode-notebook-cell:/c%3A/Users/shuel/Documents/Workspace/computer-vision/computer-vision-meganha/010-pytesseract/code/001-leitura-placa.ipynb#X20sZmlsZQ%3D%3D?line=0'>1</a>\u001b[0m text \u001b[39m=\u001b[39m pytesseract\u001b[39m.\u001b[39;49mimage_to_string(Cropped_img_loc, config \u001b[39m=\u001b[39m \u001b[39m'\u001b[39m\u001b[39m-1 eng --oem 3 --psm 1\u001b[39m\u001b[39m'\u001b[39m)\n\u001b[0;32m      <a href='vscode-notebook-cell:/c%3A/Users/shuel/Documents/Workspace/computer-vision/computer-vision-meganha/010-pytesseract/code/001-leitura-placa.ipynb#X20sZmlsZQ%3D%3D?line=1'>2</a>\u001b[0m \u001b[39mprint\u001b[39m(\u001b[39m'\u001b[39m\u001b[39mNumero é\u001b[39m\u001b[39m'\u001b[39m, text)\n",
      "\u001b[1;31mAttributeError\u001b[0m: 'str' object has no attribute 'image_to_string'"
     ]
    }
   ],
   "source": [
    "text = pytesseract.image_to_string(Cropped_img_loc, config = '-1 eng --oem 3 --psm 1')\n",
    "print('Numero é', text)"
   ]
  },
  {
   "cell_type": "code",
   "execution_count": null,
   "metadata": {},
   "outputs": [],
   "source": []
  }
 ],
 "metadata": {
  "kernelspec": {
   "display_name": "Python 3.10.5 64-bit",
   "language": "python",
   "name": "python3"
  },
  "language_info": {
   "codemirror_mode": {
    "name": "ipython",
    "version": 3
   },
   "file_extension": ".py",
   "mimetype": "text/x-python",
   "name": "python",
   "nbconvert_exporter": "python",
   "pygments_lexer": "ipython3",
   "version": "3.10.5"
  },
  "orig_nbformat": 4,
  "vscode": {
   "interpreter": {
    "hash": "a23bcfe06a6d672af8b0fbe906cddea9cbe9d26b453b4b4efa0a359c506158a1"
   }
  }
 },
 "nbformat": 4,
 "nbformat_minor": 2
}
